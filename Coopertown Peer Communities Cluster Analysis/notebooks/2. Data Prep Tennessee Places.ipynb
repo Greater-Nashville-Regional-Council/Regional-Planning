{
 "cells": [
  {
   "cell_type": "markdown",
   "id": "80313bb4",
   "metadata": {},
   "source": [
    "###### Imports and Settings"
   ]
  },
  {
   "cell_type": "code",
   "execution_count": 1,
   "id": "de594c6f",
   "metadata": {},
   "outputs": [],
   "source": [
    "import pandas as pd\n",
    "import geopandas as gpd\n",
    "import numpy as np\n",
    "import requests\n",
    "import io\n",
    "import matplotlib.pyplot as plt\n",
    "%matplotlib inline\n",
    "pd.set_option('display.max_columns', None)\n",
    "pd.set_option('display.max_rows', None)\n",
    "pd.set_option('display.width', 150)"
   ]
  },
  {
   "cell_type": "markdown",
   "id": "aec1bb09",
   "metadata": {},
   "source": [
    "###### Functions"
   ]
  },
  {
   "cell_type": "code",
   "execution_count": 2,
   "id": "89d36719",
   "metadata": {},
   "outputs": [],
   "source": [
    "#Create a function for division to avoid dividing by 0 and getting infinite values\n",
    "def percentchange(x, y):\n",
    "    try:\n",
    "        return round((x-y)*100/y, 2)\n",
    "    except ZeroDivisionError:\n",
    "        return 666\n",
    "#Create a function for calculating real change\n",
    "def realchange(x, y):\n",
    "    return round(x-y, 2)\n",
    "#Create a function for calculating population density\n",
    "def populationdensity(x, y):\n",
    "    try:\n",
    "        return round(x/y, 2)\n",
    "    except ZeroDivisionError:\n",
    "        return 666"
   ]
  },
  {
   "cell_type": "markdown",
   "id": "89f237b3",
   "metadata": {},
   "source": [
    "###### Census Bureau API Key"
   ]
  },
  {
   "cell_type": "code",
   "execution_count": 3,
   "id": "a3055f6c",
   "metadata": {},
   "outputs": [],
   "source": [
    "api_key = '24fc7d81b74510d599f702dbd408fb18e1466d81'"
   ]
  },
  {
   "cell_type": "markdown",
   "id": "6fd8d9ee",
   "metadata": {},
   "source": [
    "# Project Introduction  \n",
    "\n",
    "This notebook contains data preparation code for a peer communities analysis of Coopertown town, Tennessee. The goal is to get comparative information about fee structures in peer communities as Coopertown is rehashing their own. Because fee structures are partially determined by state government structures, this analysis is of all places in Tennessee. Data comes from the ACS 5-Year Estimates, TIGER files, and Economic Census Building Permits data series. Inputs include population, average household size, average drive time to work, land area, and number of residential building permits issued."
   ]
  },
  {
   "cell_type": "markdown",
   "id": "efcf90c7",
   "metadata": {},
   "source": [
    "## American Community Survey Data\n",
    "\n",
    "### Population  \n",
    "Three most recent 5-Year Estimates that do not overlap:  \n",
    "+ 2005-2009  \n",
    "+ 2010-2014  \n",
    "+ 2015-2019  \n",
    "\n",
    "These will be used as a stand-alone inputs, and used to calculate real and percent change over the \"short term\" (10 years) and \"long term\" (15 years).\n",
    "\n",
    "**Variable: B01003_001E**\n",
    "\n",
    "### Average Household Size  \n",
    "Average household size will be a way to factor in whether a community may be rural or urban. Rural areas tend to have larger households than urban areas.  \n",
    "\n",
    "**Variable: B25010_001E**  \n",
    "\n",
    "### Average Commute Time To Work  \n",
    "This is from the ACS Subject Tables, so it will be in a different API call than the above data. This is average commute time for workers 16+ who do not work remotely. Coopertown identifies as a \"bedroom town\" where much of the labor force commute out of the area to work. This will be a way to factor in whether the dynamic is similar in other communities.  \n",
    "\n",
    "**Variable: S0801_C01_046E**  \n",
    "\n",
    "**Detailed Variables: https://api.census.gov/data/2019/acs/acs5/variables.html**  \n",
    "**Subject Variables: https://api.census.gov/data/2019/acs/acs5/subject/variables.html**"
   ]
  },
  {
   "cell_type": "code",
   "execution_count": 4,
   "id": "ef10285f",
   "metadata": {},
   "outputs": [
    {
     "name": "stdout",
     "output_type": "stream",
     "text": [
      "Your API call is complete.\n"
     ]
    }
   ],
   "source": [
    "#2019 5-Year Subject Table - travel time to work\n",
    "url_str= 'https://api.census.gov/data/2019/acs/acs5/subject?key='+api_key\n",
    "predicates= {}\n",
    "get_vars= [\"NAME\", 'S0801_C01_046E'] #the only variable is total population\n",
    "predicates[\"get\"]= \",\". join(get_vars)\n",
    "predicates[\"for\"]= \"place:*\" #all places\n",
    "predicates[\"in\"]= \"state:47\" #all states\n",
    "data= requests.get(url_str, params= predicates)\n",
    "col_names = ['Place', 'drive', 'StateFIPS', 'PlaceFIPS']\n",
    "M=pd.DataFrame(columns=col_names, data=data.json()[1:])\n",
    "print('Your API call is complete.')"
   ]
  },
  {
   "cell_type": "code",
   "execution_count": 5,
   "id": "0c1fe0b1",
   "metadata": {},
   "outputs": [
    {
     "data": {
      "text/html": [
       "<div>\n",
       "<style scoped>\n",
       "    .dataframe tbody tr th:only-of-type {\n",
       "        vertical-align: middle;\n",
       "    }\n",
       "\n",
       "    .dataframe tbody tr th {\n",
       "        vertical-align: top;\n",
       "    }\n",
       "\n",
       "    .dataframe thead th {\n",
       "        text-align: right;\n",
       "    }\n",
       "</style>\n",
       "<table border=\"1\" class=\"dataframe\">\n",
       "  <thead>\n",
       "    <tr style=\"text-align: right;\">\n",
       "      <th></th>\n",
       "      <th>Place</th>\n",
       "      <th>drive</th>\n",
       "      <th>StateFIPS</th>\n",
       "      <th>PlaceFIPS</th>\n",
       "    </tr>\n",
       "  </thead>\n",
       "  <tbody>\n",
       "    <tr>\n",
       "      <th>0</th>\n",
       "      <td>Millersville city, Tennessee</td>\n",
       "      <td>31.2</td>\n",
       "      <td>47</td>\n",
       "      <td>48980</td>\n",
       "    </tr>\n",
       "    <tr>\n",
       "      <th>1</th>\n",
       "      <td>Baneberry city, Tennessee</td>\n",
       "      <td>35.7</td>\n",
       "      <td>47</td>\n",
       "      <td>03078</td>\n",
       "    </tr>\n",
       "    <tr>\n",
       "      <th>2</th>\n",
       "      <td>Lawrenceburg city, Tennessee</td>\n",
       "      <td>21.9</td>\n",
       "      <td>47</td>\n",
       "      <td>41340</td>\n",
       "    </tr>\n",
       "    <tr>\n",
       "      <th>3</th>\n",
       "      <td>Three Way city, Tennessee</td>\n",
       "      <td>23.6</td>\n",
       "      <td>47</td>\n",
       "      <td>74100</td>\n",
       "    </tr>\n",
       "    <tr>\n",
       "      <th>4</th>\n",
       "      <td>Colonial Heights CDP, Tennessee</td>\n",
       "      <td>21.7</td>\n",
       "      <td>47</td>\n",
       "      <td>16500</td>\n",
       "    </tr>\n",
       "  </tbody>\n",
       "</table>\n",
       "</div>"
      ],
      "text/plain": [
       "                             Place drive StateFIPS PlaceFIPS\n",
       "0     Millersville city, Tennessee  31.2        47     48980\n",
       "1        Baneberry city, Tennessee  35.7        47     03078\n",
       "2     Lawrenceburg city, Tennessee  21.9        47     41340\n",
       "3        Three Way city, Tennessee  23.6        47     74100\n",
       "4  Colonial Heights CDP, Tennessee  21.7        47     16500"
      ]
     },
     "execution_count": 5,
     "metadata": {},
     "output_type": "execute_result"
    }
   ],
   "source": [
    "M.head()"
   ]
  },
  {
   "cell_type": "code",
   "execution_count": 6,
   "id": "6f995017",
   "metadata": {},
   "outputs": [],
   "source": [
    "M['GEOID'] = M['StateFIPS'] + M['PlaceFIPS']"
   ]
  },
  {
   "cell_type": "code",
   "execution_count": 9,
   "id": "8d866710",
   "metadata": {},
   "outputs": [
    {
     "name": "stdout",
     "output_type": "stream",
     "text": [
      "Your API call is complete.\n"
     ]
    }
   ],
   "source": [
    "#list of the estimates in question to loop through\n",
    "years = ['2009','2014','2019']\n",
    "#for loop appending each year to the last\n",
    "data_appended = []\n",
    "for i in years:\n",
    "    url_str= 'https://api.census.gov/data/{}/acs/acs5?key='.format(i)+api_key\n",
    "    predicates= {}\n",
    "    get_vars= [\"NAME\", \"GEO_ID\",'B01003_001E','B25010_001E']\n",
    "    predicates[\"get\"]= \",\". join(get_vars)\n",
    "    predicates[\"for\"]= \"place:*\" #all places\n",
    "    predicates[\"in\"]= \"state:47\" #all states\n",
    "    data= requests.get(url_str, params= predicates)\n",
    "    col_names = ['Place', 'GEOID','totalpop','hhsize','StateFIPS', 'PlaceFIPS']\n",
    "    data=pd.DataFrame(columns=col_names, data=data.json()[1:])\n",
    "    data['Year'] = '{}'.format(i) \n",
    "    data_appended.append(data)\n",
    "                        \n",
    "data_appended = pd.concat(data_appended)\n",
    "J = data_appended #calling this J so that we don't have to rerun this all the time                 \n",
    "print('Your API call is complete.')"
   ]
  },
  {
   "cell_type": "code",
   "execution_count": 8,
   "id": "16f9f9f5",
   "metadata": {},
   "outputs": [],
   "source": [
    "#breaking this up and renaming our dataframe data\n",
    "data = J.reset_index(drop=True)"
   ]
  },
  {
   "cell_type": "code",
   "execution_count": 9,
   "id": "0770756d",
   "metadata": {},
   "outputs": [
    {
     "data": {
      "text/html": [
       "<div>\n",
       "<style scoped>\n",
       "    .dataframe tbody tr th:only-of-type {\n",
       "        vertical-align: middle;\n",
       "    }\n",
       "\n",
       "    .dataframe tbody tr th {\n",
       "        vertical-align: top;\n",
       "    }\n",
       "\n",
       "    .dataframe thead th {\n",
       "        text-align: right;\n",
       "    }\n",
       "</style>\n",
       "<table border=\"1\" class=\"dataframe\">\n",
       "  <thead>\n",
       "    <tr style=\"text-align: right;\">\n",
       "      <th></th>\n",
       "      <th>Place</th>\n",
       "      <th>GEOID</th>\n",
       "      <th>totalpop</th>\n",
       "      <th>hhsize</th>\n",
       "      <th>StateFIPS</th>\n",
       "      <th>PlaceFIPS</th>\n",
       "      <th>Year</th>\n",
       "    </tr>\n",
       "  </thead>\n",
       "  <tbody>\n",
       "    <tr>\n",
       "      <th>0</th>\n",
       "      <td>Mount Carmel town, Tennessee</td>\n",
       "      <td>1600000US4750580</td>\n",
       "      <td>5356</td>\n",
       "      <td>2.44</td>\n",
       "      <td>47</td>\n",
       "      <td>50580</td>\n",
       "      <td>2009</td>\n",
       "    </tr>\n",
       "    <tr>\n",
       "      <th>1</th>\n",
       "      <td>Mount Juliet city, Tennessee</td>\n",
       "      <td>1600000US4750780</td>\n",
       "      <td>20501</td>\n",
       "      <td>2.85</td>\n",
       "      <td>47</td>\n",
       "      <td>50780</td>\n",
       "      <td>2009</td>\n",
       "    </tr>\n",
       "    <tr>\n",
       "      <th>2</th>\n",
       "      <td>Mount Pleasant city, Tennessee</td>\n",
       "      <td>1600000US4751080</td>\n",
       "      <td>4451</td>\n",
       "      <td>2.37</td>\n",
       "      <td>47</td>\n",
       "      <td>51080</td>\n",
       "      <td>2009</td>\n",
       "    </tr>\n",
       "    <tr>\n",
       "      <th>3</th>\n",
       "      <td>Munford city, Tennessee</td>\n",
       "      <td>1600000US4751540</td>\n",
       "      <td>6304</td>\n",
       "      <td>2.45</td>\n",
       "      <td>47</td>\n",
       "      <td>51540</td>\n",
       "      <td>2009</td>\n",
       "    </tr>\n",
       "    <tr>\n",
       "      <th>4</th>\n",
       "      <td>Murfreesboro city, Tennessee</td>\n",
       "      <td>1600000US4751560</td>\n",
       "      <td>97423</td>\n",
       "      <td>2.40</td>\n",
       "      <td>47</td>\n",
       "      <td>51560</td>\n",
       "      <td>2009</td>\n",
       "    </tr>\n",
       "  </tbody>\n",
       "</table>\n",
       "</div>"
      ],
      "text/plain": [
       "                            Place             GEOID totalpop hhsize StateFIPS PlaceFIPS  Year\n",
       "0    Mount Carmel town, Tennessee  1600000US4750580     5356   2.44        47     50580  2009\n",
       "1    Mount Juliet city, Tennessee  1600000US4750780    20501   2.85        47     50780  2009\n",
       "2  Mount Pleasant city, Tennessee  1600000US4751080     4451   2.37        47     51080  2009\n",
       "3         Munford city, Tennessee  1600000US4751540     6304   2.45        47     51540  2009\n",
       "4    Murfreesboro city, Tennessee  1600000US4751560    97423   2.40        47     51560  2009"
      ]
     },
     "execution_count": 9,
     "metadata": {},
     "output_type": "execute_result"
    }
   ],
   "source": [
    "data.head()"
   ]
  },
  {
   "cell_type": "code",
   "execution_count": 10,
   "id": "0ed9663a",
   "metadata": {},
   "outputs": [],
   "source": [
    "data['GEOID'] = data['StateFIPS']+data['PlaceFIPS']"
   ]
  },
  {
   "cell_type": "code",
   "execution_count": 11,
   "id": "fc185782",
   "metadata": {},
   "outputs": [],
   "source": [
    "#pivot - unpack index later\n",
    "data = data.set_index(data.index).pivot(values = ['totalpop','hhsize'], index=['Place','GEOID','StateFIPS','PlaceFIPS'], columns = 'Year')"
   ]
  },
  {
   "cell_type": "code",
   "execution_count": 12,
   "id": "57c0888d",
   "metadata": {},
   "outputs": [
    {
     "data": {
      "text/html": [
       "<div>\n",
       "<style scoped>\n",
       "    .dataframe tbody tr th:only-of-type {\n",
       "        vertical-align: middle;\n",
       "    }\n",
       "\n",
       "    .dataframe tbody tr th {\n",
       "        vertical-align: top;\n",
       "    }\n",
       "\n",
       "    .dataframe thead tr th {\n",
       "        text-align: left;\n",
       "    }\n",
       "\n",
       "    .dataframe thead tr:last-of-type th {\n",
       "        text-align: right;\n",
       "    }\n",
       "</style>\n",
       "<table border=\"1\" class=\"dataframe\">\n",
       "  <thead>\n",
       "    <tr>\n",
       "      <th></th>\n",
       "      <th></th>\n",
       "      <th></th>\n",
       "      <th></th>\n",
       "      <th colspan=\"3\" halign=\"left\">totalpop</th>\n",
       "      <th colspan=\"3\" halign=\"left\">hhsize</th>\n",
       "    </tr>\n",
       "    <tr>\n",
       "      <th></th>\n",
       "      <th></th>\n",
       "      <th></th>\n",
       "      <th>Year</th>\n",
       "      <th>2009</th>\n",
       "      <th>2014</th>\n",
       "      <th>2019</th>\n",
       "      <th>2009</th>\n",
       "      <th>2014</th>\n",
       "      <th>2019</th>\n",
       "    </tr>\n",
       "    <tr>\n",
       "      <th>Place</th>\n",
       "      <th>GEOID</th>\n",
       "      <th>StateFIPS</th>\n",
       "      <th>PlaceFIPS</th>\n",
       "      <th></th>\n",
       "      <th></th>\n",
       "      <th></th>\n",
       "      <th></th>\n",
       "      <th></th>\n",
       "      <th></th>\n",
       "    </tr>\n",
       "  </thead>\n",
       "  <tbody>\n",
       "    <tr>\n",
       "      <th>Adams city, Tennessee</th>\n",
       "      <th>4700200</th>\n",
       "      <th>47</th>\n",
       "      <th>00200</th>\n",
       "      <td>612</td>\n",
       "      <td>836</td>\n",
       "      <td>602</td>\n",
       "      <td>2.58</td>\n",
       "      <td>2.97</td>\n",
       "      <td>2.87</td>\n",
       "    </tr>\n",
       "    <tr>\n",
       "      <th>Adamsville town, Tennessee</th>\n",
       "      <th>4700240</th>\n",
       "      <th>47</th>\n",
       "      <th>00240</th>\n",
       "      <td>2111</td>\n",
       "      <td>1909</td>\n",
       "      <td>2307</td>\n",
       "      <td>2.23</td>\n",
       "      <td>2.28</td>\n",
       "      <td>2.63</td>\n",
       "    </tr>\n",
       "    <tr>\n",
       "      <th>Alamo town, Tennessee</th>\n",
       "      <th>4700440</th>\n",
       "      <th>47</th>\n",
       "      <th>00440</th>\n",
       "      <td>2397</td>\n",
       "      <td>2423</td>\n",
       "      <td>2187</td>\n",
       "      <td>2.63</td>\n",
       "      <td>2.63</td>\n",
       "      <td>2.51</td>\n",
       "    </tr>\n",
       "    <tr>\n",
       "      <th>Alcoa city, Tennessee</th>\n",
       "      <th>4700540</th>\n",
       "      <th>47</th>\n",
       "      <th>00540</th>\n",
       "      <td>8613</td>\n",
       "      <td>8556</td>\n",
       "      <td>9561</td>\n",
       "      <td>2.39</td>\n",
       "      <td>2.30</td>\n",
       "      <td>2.49</td>\n",
       "    </tr>\n",
       "    <tr>\n",
       "      <th>Alexandria town, Tennessee</th>\n",
       "      <th>4700620</th>\n",
       "      <th>47</th>\n",
       "      <th>00620</th>\n",
       "      <td>919</td>\n",
       "      <td>1184</td>\n",
       "      <td>1002</td>\n",
       "      <td>2.58</td>\n",
       "      <td>2.81</td>\n",
       "      <td>2.52</td>\n",
       "    </tr>\n",
       "  </tbody>\n",
       "</table>\n",
       "</div>"
      ],
      "text/plain": [
       "                                                       totalpop             hhsize            \n",
       "Year                                                       2009  2014  2019   2009  2014  2019\n",
       "Place                      GEOID   StateFIPS PlaceFIPS                                        \n",
       "Adams city, Tennessee      4700200 47        00200          612   836   602   2.58  2.97  2.87\n",
       "Adamsville town, Tennessee 4700240 47        00240         2111  1909  2307   2.23  2.28  2.63\n",
       "Alamo town, Tennessee      4700440 47        00440         2397  2423  2187   2.63  2.63  2.51\n",
       "Alcoa city, Tennessee      4700540 47        00540         8613  8556  9561   2.39  2.30  2.49\n",
       "Alexandria town, Tennessee 4700620 47        00620          919  1184  1002   2.58  2.81  2.52"
      ]
     },
     "execution_count": 12,
     "metadata": {},
     "output_type": "execute_result"
    }
   ],
   "source": [
    "data.head()"
   ]
  },
  {
   "cell_type": "code",
   "execution_count": 13,
   "id": "42e6ea4d",
   "metadata": {},
   "outputs": [],
   "source": [
    "data.columns = data.columns.values\n",
    "data.columns = pd.MultiIndex.from_tuples(data.rename(columns={('totalpop', '2009'):('totalpop', '09pop'),('totalpop', '2014'):('totalpop', '14pop'), \n",
    "                                                         ('totalpop', '2019'):('totalpop', '19pop'),('hhsize', '2009'):('hhsize', '09hhsize'), \n",
    "                                                         ('hhsize', '2014'):('hhsize', '14hhsize'),('hhsize', '2019'):('hhsize', '19hhsize')}))"
   ]
  },
  {
   "cell_type": "code",
   "execution_count": 14,
   "id": "93f05dda",
   "metadata": {},
   "outputs": [],
   "source": [
    "data.columns = data.columns.droplevel()"
   ]
  },
  {
   "cell_type": "code",
   "execution_count": 15,
   "id": "9874041b",
   "metadata": {},
   "outputs": [
    {
     "data": {
      "text/html": [
       "<div>\n",
       "<style scoped>\n",
       "    .dataframe tbody tr th:only-of-type {\n",
       "        vertical-align: middle;\n",
       "    }\n",
       "\n",
       "    .dataframe tbody tr th {\n",
       "        vertical-align: top;\n",
       "    }\n",
       "\n",
       "    .dataframe thead th {\n",
       "        text-align: right;\n",
       "    }\n",
       "</style>\n",
       "<table border=\"1\" class=\"dataframe\">\n",
       "  <thead>\n",
       "    <tr style=\"text-align: right;\">\n",
       "      <th></th>\n",
       "      <th></th>\n",
       "      <th></th>\n",
       "      <th></th>\n",
       "      <th>09pop</th>\n",
       "      <th>14pop</th>\n",
       "      <th>19pop</th>\n",
       "      <th>09hhsize</th>\n",
       "      <th>14hhsize</th>\n",
       "      <th>19hhsize</th>\n",
       "    </tr>\n",
       "    <tr>\n",
       "      <th>Place</th>\n",
       "      <th>GEOID</th>\n",
       "      <th>StateFIPS</th>\n",
       "      <th>PlaceFIPS</th>\n",
       "      <th></th>\n",
       "      <th></th>\n",
       "      <th></th>\n",
       "      <th></th>\n",
       "      <th></th>\n",
       "      <th></th>\n",
       "    </tr>\n",
       "  </thead>\n",
       "  <tbody>\n",
       "    <tr>\n",
       "      <th>Adams city, Tennessee</th>\n",
       "      <th>4700200</th>\n",
       "      <th>47</th>\n",
       "      <th>00200</th>\n",
       "      <td>612</td>\n",
       "      <td>836</td>\n",
       "      <td>602</td>\n",
       "      <td>2.58</td>\n",
       "      <td>2.97</td>\n",
       "      <td>2.87</td>\n",
       "    </tr>\n",
       "    <tr>\n",
       "      <th>Adamsville town, Tennessee</th>\n",
       "      <th>4700240</th>\n",
       "      <th>47</th>\n",
       "      <th>00240</th>\n",
       "      <td>2111</td>\n",
       "      <td>1909</td>\n",
       "      <td>2307</td>\n",
       "      <td>2.23</td>\n",
       "      <td>2.28</td>\n",
       "      <td>2.63</td>\n",
       "    </tr>\n",
       "  </tbody>\n",
       "</table>\n",
       "</div>"
      ],
      "text/plain": [
       "                                                       09pop 14pop 19pop 09hhsize 14hhsize 19hhsize\n",
       "Place                      GEOID   StateFIPS PlaceFIPS                                             \n",
       "Adams city, Tennessee      4700200 47        00200       612   836   602     2.58     2.97     2.87\n",
       "Adamsville town, Tennessee 4700240 47        00240      2111  1909  2307     2.23     2.28     2.63"
      ]
     },
     "execution_count": 15,
     "metadata": {},
     "output_type": "execute_result"
    }
   ],
   "source": [
    "data.head(2)"
   ]
  },
  {
   "cell_type": "code",
   "execution_count": 16,
   "id": "dcbb9576",
   "metadata": {},
   "outputs": [],
   "source": [
    "#unpack indices\n",
    "data = data.reset_index()"
   ]
  },
  {
   "cell_type": "code",
   "execution_count": 17,
   "id": "8a876263",
   "metadata": {},
   "outputs": [
    {
     "data": {
      "text/html": [
       "<div>\n",
       "<style scoped>\n",
       "    .dataframe tbody tr th:only-of-type {\n",
       "        vertical-align: middle;\n",
       "    }\n",
       "\n",
       "    .dataframe tbody tr th {\n",
       "        vertical-align: top;\n",
       "    }\n",
       "\n",
       "    .dataframe thead th {\n",
       "        text-align: right;\n",
       "    }\n",
       "</style>\n",
       "<table border=\"1\" class=\"dataframe\">\n",
       "  <thead>\n",
       "    <tr style=\"text-align: right;\">\n",
       "      <th></th>\n",
       "      <th>Place</th>\n",
       "      <th>GEOID</th>\n",
       "      <th>StateFIPS</th>\n",
       "      <th>PlaceFIPS</th>\n",
       "      <th>09pop</th>\n",
       "      <th>14pop</th>\n",
       "      <th>19pop</th>\n",
       "      <th>09hhsize</th>\n",
       "      <th>14hhsize</th>\n",
       "      <th>19hhsize</th>\n",
       "    </tr>\n",
       "  </thead>\n",
       "  <tbody>\n",
       "    <tr>\n",
       "      <th>0</th>\n",
       "      <td>Adams city, Tennessee</td>\n",
       "      <td>4700200</td>\n",
       "      <td>47</td>\n",
       "      <td>00200</td>\n",
       "      <td>612</td>\n",
       "      <td>836</td>\n",
       "      <td>602</td>\n",
       "      <td>2.58</td>\n",
       "      <td>2.97</td>\n",
       "      <td>2.87</td>\n",
       "    </tr>\n",
       "    <tr>\n",
       "      <th>1</th>\n",
       "      <td>Adamsville town, Tennessee</td>\n",
       "      <td>4700240</td>\n",
       "      <td>47</td>\n",
       "      <td>00240</td>\n",
       "      <td>2111</td>\n",
       "      <td>1909</td>\n",
       "      <td>2307</td>\n",
       "      <td>2.23</td>\n",
       "      <td>2.28</td>\n",
       "      <td>2.63</td>\n",
       "    </tr>\n",
       "  </tbody>\n",
       "</table>\n",
       "</div>"
      ],
      "text/plain": [
       "                        Place    GEOID StateFIPS PlaceFIPS 09pop 14pop 19pop 09hhsize 14hhsize 19hhsize\n",
       "0       Adams city, Tennessee  4700200        47     00200   612   836   602     2.58     2.97     2.87\n",
       "1  Adamsville town, Tennessee  4700240        47     00240  2111  1909  2307     2.23     2.28     2.63"
      ]
     },
     "execution_count": 17,
     "metadata": {},
     "output_type": "execute_result"
    }
   ],
   "source": [
    "data.head(2)"
   ]
  },
  {
   "cell_type": "code",
   "execution_count": 18,
   "id": "00de1da0",
   "metadata": {},
   "outputs": [],
   "source": [
    "#just need current hhsize so drop 09 and 14 estimates\n",
    "data = data.drop(columns = ['09hhsize','14hhsize'])"
   ]
  },
  {
   "cell_type": "code",
   "execution_count": 19,
   "id": "12f80cd5",
   "metadata": {},
   "outputs": [],
   "source": [
    "#now rename\n",
    "data = data.rename(columns = {'19hhsize':'hhsize'})"
   ]
  },
  {
   "cell_type": "code",
   "execution_count": 20,
   "id": "8920bbf0",
   "metadata": {},
   "outputs": [],
   "source": [
    "data['GEOID'] = data['GEOID'].astype(str)\n",
    "M['GEOID'] = M['GEOID'].astype(str)"
   ]
  },
  {
   "cell_type": "code",
   "execution_count": 21,
   "id": "9798445f",
   "metadata": {},
   "outputs": [],
   "source": [
    "data = pd.merge(data, M, on = 'GEOID')"
   ]
  },
  {
   "cell_type": "code",
   "execution_count": 22,
   "id": "23b28795",
   "metadata": {},
   "outputs": [
    {
     "data": {
      "text/html": [
       "<div>\n",
       "<style scoped>\n",
       "    .dataframe tbody tr th:only-of-type {\n",
       "        vertical-align: middle;\n",
       "    }\n",
       "\n",
       "    .dataframe tbody tr th {\n",
       "        vertical-align: top;\n",
       "    }\n",
       "\n",
       "    .dataframe thead th {\n",
       "        text-align: right;\n",
       "    }\n",
       "</style>\n",
       "<table border=\"1\" class=\"dataframe\">\n",
       "  <thead>\n",
       "    <tr style=\"text-align: right;\">\n",
       "      <th></th>\n",
       "      <th>Place_x</th>\n",
       "      <th>GEOID</th>\n",
       "      <th>StateFIPS_x</th>\n",
       "      <th>PlaceFIPS_x</th>\n",
       "      <th>09pop</th>\n",
       "      <th>14pop</th>\n",
       "      <th>19pop</th>\n",
       "      <th>hhsize</th>\n",
       "      <th>Place_y</th>\n",
       "      <th>drive</th>\n",
       "      <th>StateFIPS_y</th>\n",
       "      <th>PlaceFIPS_y</th>\n",
       "    </tr>\n",
       "  </thead>\n",
       "  <tbody>\n",
       "    <tr>\n",
       "      <th>0</th>\n",
       "      <td>Adams city, Tennessee</td>\n",
       "      <td>4700200</td>\n",
       "      <td>47</td>\n",
       "      <td>00200</td>\n",
       "      <td>612</td>\n",
       "      <td>836</td>\n",
       "      <td>602</td>\n",
       "      <td>2.87</td>\n",
       "      <td>Adams city, Tennessee</td>\n",
       "      <td>34.8</td>\n",
       "      <td>47</td>\n",
       "      <td>00200</td>\n",
       "    </tr>\n",
       "    <tr>\n",
       "      <th>1</th>\n",
       "      <td>Adamsville town, Tennessee</td>\n",
       "      <td>4700240</td>\n",
       "      <td>47</td>\n",
       "      <td>00240</td>\n",
       "      <td>2111</td>\n",
       "      <td>1909</td>\n",
       "      <td>2307</td>\n",
       "      <td>2.63</td>\n",
       "      <td>Adamsville town, Tennessee</td>\n",
       "      <td>25.1</td>\n",
       "      <td>47</td>\n",
       "      <td>00240</td>\n",
       "    </tr>\n",
       "    <tr>\n",
       "      <th>2</th>\n",
       "      <td>Alamo town, Tennessee</td>\n",
       "      <td>4700440</td>\n",
       "      <td>47</td>\n",
       "      <td>00440</td>\n",
       "      <td>2397</td>\n",
       "      <td>2423</td>\n",
       "      <td>2187</td>\n",
       "      <td>2.51</td>\n",
       "      <td>Alamo town, Tennessee</td>\n",
       "      <td>19.0</td>\n",
       "      <td>47</td>\n",
       "      <td>00440</td>\n",
       "    </tr>\n",
       "    <tr>\n",
       "      <th>3</th>\n",
       "      <td>Alcoa city, Tennessee</td>\n",
       "      <td>4700540</td>\n",
       "      <td>47</td>\n",
       "      <td>00540</td>\n",
       "      <td>8613</td>\n",
       "      <td>8556</td>\n",
       "      <td>9561</td>\n",
       "      <td>2.49</td>\n",
       "      <td>Alcoa city, Tennessee</td>\n",
       "      <td>22.0</td>\n",
       "      <td>47</td>\n",
       "      <td>00540</td>\n",
       "    </tr>\n",
       "    <tr>\n",
       "      <th>4</th>\n",
       "      <td>Alexandria town, Tennessee</td>\n",
       "      <td>4700620</td>\n",
       "      <td>47</td>\n",
       "      <td>00620</td>\n",
       "      <td>919</td>\n",
       "      <td>1184</td>\n",
       "      <td>1002</td>\n",
       "      <td>2.52</td>\n",
       "      <td>Alexandria town, Tennessee</td>\n",
       "      <td>36.4</td>\n",
       "      <td>47</td>\n",
       "      <td>00620</td>\n",
       "    </tr>\n",
       "  </tbody>\n",
       "</table>\n",
       "</div>"
      ],
      "text/plain": [
       "                      Place_x    GEOID StateFIPS_x PlaceFIPS_x 09pop 14pop 19pop hhsize                     Place_y drive StateFIPS_y PlaceFIPS_y\n",
       "0       Adams city, Tennessee  4700200          47       00200   612   836   602   2.87       Adams city, Tennessee  34.8          47       00200\n",
       "1  Adamsville town, Tennessee  4700240          47       00240  2111  1909  2307   2.63  Adamsville town, Tennessee  25.1          47       00240\n",
       "2       Alamo town, Tennessee  4700440          47       00440  2397  2423  2187   2.51       Alamo town, Tennessee  19.0          47       00440\n",
       "3       Alcoa city, Tennessee  4700540          47       00540  8613  8556  9561   2.49       Alcoa city, Tennessee  22.0          47       00540\n",
       "4  Alexandria town, Tennessee  4700620          47       00620   919  1184  1002   2.52  Alexandria town, Tennessee  36.4          47       00620"
      ]
     },
     "execution_count": 22,
     "metadata": {},
     "output_type": "execute_result"
    }
   ],
   "source": [
    "data.head()"
   ]
  },
  {
   "cell_type": "code",
   "execution_count": 23,
   "id": "d98e6825",
   "metadata": {},
   "outputs": [],
   "source": [
    "data = data.drop(columns = ['Place_y', 'StateFIPS_y', 'PlaceFIPS_y'])"
   ]
  },
  {
   "cell_type": "code",
   "execution_count": 24,
   "id": "a383a381",
   "metadata": {},
   "outputs": [],
   "source": [
    "data = data.rename(columns = {'Place_x':'Place', 'PlaceFIPS_x':'PlaceFIPS','StateFIPS_x':'StateFIPS'})"
   ]
  },
  {
   "cell_type": "code",
   "execution_count": 25,
   "id": "b010fcc4",
   "metadata": {},
   "outputs": [
    {
     "data": {
      "text/html": [
       "<div>\n",
       "<style scoped>\n",
       "    .dataframe tbody tr th:only-of-type {\n",
       "        vertical-align: middle;\n",
       "    }\n",
       "\n",
       "    .dataframe tbody tr th {\n",
       "        vertical-align: top;\n",
       "    }\n",
       "\n",
       "    .dataframe thead th {\n",
       "        text-align: right;\n",
       "    }\n",
       "</style>\n",
       "<table border=\"1\" class=\"dataframe\">\n",
       "  <thead>\n",
       "    <tr style=\"text-align: right;\">\n",
       "      <th></th>\n",
       "      <th>Place</th>\n",
       "      <th>GEOID</th>\n",
       "      <th>StateFIPS</th>\n",
       "      <th>PlaceFIPS</th>\n",
       "      <th>09pop</th>\n",
       "      <th>14pop</th>\n",
       "      <th>19pop</th>\n",
       "      <th>hhsize</th>\n",
       "      <th>drive</th>\n",
       "    </tr>\n",
       "  </thead>\n",
       "  <tbody>\n",
       "    <tr>\n",
       "      <th>83</th>\n",
       "      <td>Coopertown town, Tennessee</td>\n",
       "      <td>4716980</td>\n",
       "      <td>47</td>\n",
       "      <td>16980</td>\n",
       "      <td>3342</td>\n",
       "      <td>4321</td>\n",
       "      <td>4496</td>\n",
       "      <td>2.79</td>\n",
       "      <td>33.8</td>\n",
       "    </tr>\n",
       "  </tbody>\n",
       "</table>\n",
       "</div>"
      ],
      "text/plain": [
       "                         Place    GEOID StateFIPS PlaceFIPS 09pop 14pop 19pop hhsize drive\n",
       "83  Coopertown town, Tennessee  4716980        47     16980  3342  4321  4496   2.79  33.8"
      ]
     },
     "execution_count": 25,
     "metadata": {},
     "output_type": "execute_result"
    }
   ],
   "source": [
    "CT = data.loc[data['GEOID'] == '4716980']\n",
    "CT"
   ]
  },
  {
   "cell_type": "code",
   "execution_count": 26,
   "id": "01aaa4fc",
   "metadata": {},
   "outputs": [],
   "source": [
    "#drop any rows with null values this shouldn't be the case for any communities we're concerned with\n",
    "data = data.dropna()"
   ]
  },
  {
   "cell_type": "code",
   "execution_count": 27,
   "id": "2181b12c",
   "metadata": {},
   "outputs": [],
   "source": [
    "#convert datatypes for qualifiers then mathematical operations\n",
    "cols = ['09pop','14pop','19pop']\n",
    "data[cols] = data[cols].astype(float)\n",
    "data[cols] = data[cols].astype(int)"
   ]
  },
  {
   "cell_type": "code",
   "execution_count": 28,
   "id": "a7aa22d3",
   "metadata": {},
   "outputs": [],
   "source": [
    "cols = ['hhsize','drive']\n",
    "data[cols] = round(data[cols].astype(float),2)"
   ]
  },
  {
   "cell_type": "code",
   "execution_count": 29,
   "id": "5a56f104",
   "metadata": {},
   "outputs": [],
   "source": [
    "#drop Places that had no population reported for any of the three 5 year periods and reset index again\n",
    "data = data[data[['Place','GEOID','StateFIPS','PlaceFIPS','09pop','14pop','19pop','hhsize','drive']] != 0]\n",
    "data = data.reset_index(drop=True)"
   ]
  },
  {
   "cell_type": "code",
   "execution_count": 30,
   "id": "d2431872",
   "metadata": {},
   "outputs": [],
   "source": [
    "#drop any rows with null values this shouldn't be the case for any communities we're concerned with\n",
    "data = data.dropna()"
   ]
  },
  {
   "cell_type": "code",
   "execution_count": 31,
   "id": "36466f22",
   "metadata": {},
   "outputs": [
    {
     "name": "stdout",
     "output_type": "stream",
     "text": [
      "<class 'pandas.core.frame.DataFrame'>\n",
      "Int64Index: 374 entries, 0 to 373\n",
      "Data columns (total 9 columns):\n",
      " #   Column     Non-Null Count  Dtype  \n",
      "---  ------     --------------  -----  \n",
      " 0   Place      374 non-null    object \n",
      " 1   GEOID      374 non-null    object \n",
      " 2   StateFIPS  374 non-null    object \n",
      " 3   PlaceFIPS  374 non-null    object \n",
      " 4   09pop      374 non-null    int32  \n",
      " 5   14pop      374 non-null    int32  \n",
      " 6   19pop      374 non-null    int32  \n",
      " 7   hhsize     374 non-null    float64\n",
      " 8   drive      374 non-null    float64\n",
      "dtypes: float64(2), int32(3), object(4)\n",
      "memory usage: 24.8+ KB\n"
     ]
    }
   ],
   "source": [
    "data.info()"
   ]
  },
  {
   "cell_type": "markdown",
   "id": "64cba6f0",
   "metadata": {},
   "source": [
    "Dropping columns with null or 0 values for any of the 5 year periods leaves us with 374 places."
   ]
  },
  {
   "cell_type": "code",
   "execution_count": 32,
   "id": "76dab288",
   "metadata": {},
   "outputs": [],
   "source": [
    "#call change functions\n",
    "data['ST%'] = percentchange(data['19pop'], data['14pop']) #short-term percent change\n",
    "data['ST'] = realchange(data['19pop'], data['14pop']) #short-term real change\n",
    "data['LT%'] = percentchange(data['19pop'], data['09pop']) #long-term percent change\n",
    "data['LT'] = realchange(data['19pop'], data['09pop']) #long-term real change"
   ]
  },
  {
   "cell_type": "code",
   "execution_count": 33,
   "id": "0ec40ee9",
   "metadata": {},
   "outputs": [
    {
     "data": {
      "text/html": [
       "<div>\n",
       "<style scoped>\n",
       "    .dataframe tbody tr th:only-of-type {\n",
       "        vertical-align: middle;\n",
       "    }\n",
       "\n",
       "    .dataframe tbody tr th {\n",
       "        vertical-align: top;\n",
       "    }\n",
       "\n",
       "    .dataframe thead th {\n",
       "        text-align: right;\n",
       "    }\n",
       "</style>\n",
       "<table border=\"1\" class=\"dataframe\">\n",
       "  <thead>\n",
       "    <tr style=\"text-align: right;\">\n",
       "      <th></th>\n",
       "      <th>Place</th>\n",
       "      <th>GEOID</th>\n",
       "      <th>StateFIPS</th>\n",
       "      <th>PlaceFIPS</th>\n",
       "      <th>09pop</th>\n",
       "      <th>14pop</th>\n",
       "      <th>19pop</th>\n",
       "      <th>hhsize</th>\n",
       "      <th>drive</th>\n",
       "      <th>ST%</th>\n",
       "      <th>ST</th>\n",
       "      <th>LT%</th>\n",
       "      <th>LT</th>\n",
       "    </tr>\n",
       "  </thead>\n",
       "  <tbody>\n",
       "    <tr>\n",
       "      <th>70</th>\n",
       "      <td>Coopertown town, Tennessee</td>\n",
       "      <td>4716980</td>\n",
       "      <td>47</td>\n",
       "      <td>16980</td>\n",
       "      <td>3342</td>\n",
       "      <td>4321</td>\n",
       "      <td>4496</td>\n",
       "      <td>2.79</td>\n",
       "      <td>33.8</td>\n",
       "      <td>4.05</td>\n",
       "      <td>175</td>\n",
       "      <td>34.53</td>\n",
       "      <td>1154</td>\n",
       "    </tr>\n",
       "  </tbody>\n",
       "</table>\n",
       "</div>"
      ],
      "text/plain": [
       "                         Place    GEOID StateFIPS PlaceFIPS  09pop  14pop  19pop  hhsize  drive   ST%   ST    LT%    LT\n",
       "70  Coopertown town, Tennessee  4716980        47     16980   3342   4321   4496    2.79   33.8  4.05  175  34.53  1154"
      ]
     },
     "execution_count": 33,
     "metadata": {},
     "output_type": "execute_result"
    }
   ],
   "source": [
    "#check out Coopertown town\n",
    "CT = data.loc[data['Place'] == 'Coopertown town, Tennessee']\n",
    "CT"
   ]
  },
  {
   "cell_type": "code",
   "execution_count": 34,
   "id": "02faf119",
   "metadata": {},
   "outputs": [],
   "source": [
    "#Split the Place name so that it doesn't contain the State, keep the State column just in case we want to look by State later so we won't have to just use the FIPS\n",
    "name = data['Place'].str.split(pat = ',', expand=True)\n",
    "data['Place'] = name[0]\n",
    "data['State'] = name[1]"
   ]
  },
  {
   "cell_type": "code",
   "execution_count": 35,
   "id": "624a6d57",
   "metadata": {},
   "outputs": [],
   "source": [
    "#Take out the CDPs, villages, and boroughs - this takes us down to 342\n",
    "data = data[~data.Place.str.contains('CDP')]\n",
    "data = data[~data.Place.str.contains('village')]\n",
    "data = data[~data.Place.str.contains('borough')]"
   ]
  },
  {
   "cell_type": "markdown",
   "id": "dbc44df9",
   "metadata": {},
   "source": [
    "## Geography\n",
    "\n",
    "Extract and append all of the state level place files from the Census TIGER database. Find this path here: https://www2.census.gov/geo/tiger/TIGER2019/PLACE/. The zip files are formatted so that the State FIPS codes distinguish them Tennessee's is used.\n",
    "\n",
    "The areas are in square meters and will be converted to square miles."
   ]
  },
  {
   "cell_type": "code",
   "execution_count": 36,
   "id": "fc24d447",
   "metadata": {},
   "outputs": [
    {
     "name": "stdout",
     "output_type": "stream",
     "text": [
      "Your geographic file is ready.\n"
     ]
    }
   ],
   "source": [
    "url= 'https://www2.census.gov/geo/tiger/TIGER2019/PLACE/tl_2019_47_place.zip'\n",
    "geo = gpd.read_file(url)\n",
    "print('Your geographic file is ready.')"
   ]
  },
  {
   "cell_type": "code",
   "execution_count": 37,
   "id": "02ef3437",
   "metadata": {},
   "outputs": [],
   "source": [
    "#drop all the noise or things that will be filled in by other dataframe when joined\n",
    "geo = geo.drop(columns = ['LSAD','PCICBSA','STATEFP','PLACEFP','PLACENS','CLASSFP','PCINECTA','MTFCC','FUNCSTAT','INTPTLAT','INTPTLON'])"
   ]
  },
  {
   "cell_type": "code",
   "execution_count": 38,
   "id": "1806c2d0",
   "metadata": {},
   "outputs": [],
   "source": [
    "#convert the land area to square miles\n",
    "geo['SQMILES'] = round(geo['ALAND']* 0.000000386102,2)"
   ]
  },
  {
   "cell_type": "markdown",
   "id": "3cc8af62",
   "metadata": {},
   "source": [
    "## Join ACS and Geography"
   ]
  },
  {
   "cell_type": "code",
   "execution_count": 39,
   "id": "5e68627a",
   "metadata": {},
   "outputs": [],
   "source": [
    "data_geo = geo.merge(data, on = 'GEOID').reset_index(drop=True)"
   ]
  },
  {
   "cell_type": "code",
   "execution_count": 40,
   "id": "9f35dfc8",
   "metadata": {},
   "outputs": [
    {
     "data": {
      "text/html": [
       "<div>\n",
       "<style scoped>\n",
       "    .dataframe tbody tr th:only-of-type {\n",
       "        vertical-align: middle;\n",
       "    }\n",
       "\n",
       "    .dataframe tbody tr th {\n",
       "        vertical-align: top;\n",
       "    }\n",
       "\n",
       "    .dataframe thead th {\n",
       "        text-align: right;\n",
       "    }\n",
       "</style>\n",
       "<table border=\"1\" class=\"dataframe\">\n",
       "  <thead>\n",
       "    <tr style=\"text-align: right;\">\n",
       "      <th></th>\n",
       "      <th>GEOID</th>\n",
       "      <th>NAME</th>\n",
       "      <th>NAMELSAD</th>\n",
       "      <th>ALAND</th>\n",
       "      <th>AWATER</th>\n",
       "      <th>geometry</th>\n",
       "      <th>SQMILES</th>\n",
       "      <th>Place</th>\n",
       "      <th>StateFIPS</th>\n",
       "      <th>PlaceFIPS</th>\n",
       "      <th>09pop</th>\n",
       "      <th>14pop</th>\n",
       "      <th>19pop</th>\n",
       "      <th>hhsize</th>\n",
       "      <th>drive</th>\n",
       "      <th>ST%</th>\n",
       "      <th>ST</th>\n",
       "      <th>LT%</th>\n",
       "      <th>LT</th>\n",
       "      <th>State</th>\n",
       "    </tr>\n",
       "  </thead>\n",
       "  <tbody>\n",
       "    <tr>\n",
       "      <th>0</th>\n",
       "      <td>4724240</td>\n",
       "      <td>Enville</td>\n",
       "      <td>Enville town</td>\n",
       "      <td>3742521</td>\n",
       "      <td>0</td>\n",
       "      <td>POLYGON ((-88.45060 35.39696, -88.45053 35.397...</td>\n",
       "      <td>1.44</td>\n",
       "      <td>Enville town</td>\n",
       "      <td>47</td>\n",
       "      <td>24240</td>\n",
       "      <td>181</td>\n",
       "      <td>226</td>\n",
       "      <td>168</td>\n",
       "      <td>2.75</td>\n",
       "      <td>34.4</td>\n",
       "      <td>-25.66</td>\n",
       "      <td>-58</td>\n",
       "      <td>-7.18</td>\n",
       "      <td>-13</td>\n",
       "      <td>Tennessee</td>\n",
       "    </tr>\n",
       "    <tr>\n",
       "      <th>1</th>\n",
       "      <td>4748920</td>\n",
       "      <td>Milledgeville</td>\n",
       "      <td>Milledgeville town</td>\n",
       "      <td>4162578</td>\n",
       "      <td>0</td>\n",
       "      <td>POLYGON ((-88.38010 35.38286, -88.37993 35.382...</td>\n",
       "      <td>1.61</td>\n",
       "      <td>Milledgeville town</td>\n",
       "      <td>47</td>\n",
       "      <td>48920</td>\n",
       "      <td>337</td>\n",
       "      <td>226</td>\n",
       "      <td>297</td>\n",
       "      <td>2.32</td>\n",
       "      <td>37.0</td>\n",
       "      <td>31.42</td>\n",
       "      <td>71</td>\n",
       "      <td>-11.87</td>\n",
       "      <td>-40</td>\n",
       "      <td>Tennessee</td>\n",
       "    </tr>\n",
       "    <tr>\n",
       "      <th>2</th>\n",
       "      <td>4731490</td>\n",
       "      <td>Gruetli-Laager</td>\n",
       "      <td>Gruetli-Laager city</td>\n",
       "      <td>32831802</td>\n",
       "      <td>0</td>\n",
       "      <td>POLYGON ((-85.70419 35.37807, -85.70386 35.377...</td>\n",
       "      <td>12.68</td>\n",
       "      <td>Gruetli-Laager city</td>\n",
       "      <td>47</td>\n",
       "      <td>31490</td>\n",
       "      <td>2035</td>\n",
       "      <td>1646</td>\n",
       "      <td>2429</td>\n",
       "      <td>3.25</td>\n",
       "      <td>31.3</td>\n",
       "      <td>47.57</td>\n",
       "      <td>783</td>\n",
       "      <td>19.36</td>\n",
       "      <td>394</td>\n",
       "      <td>Tennessee</td>\n",
       "    </tr>\n",
       "    <tr>\n",
       "      <th>3</th>\n",
       "      <td>4774880</td>\n",
       "      <td>Tracy City</td>\n",
       "      <td>Tracy City town</td>\n",
       "      <td>12058477</td>\n",
       "      <td>302368</td>\n",
       "      <td>POLYGON ((-85.78324 35.25530, -85.78290 35.262...</td>\n",
       "      <td>4.66</td>\n",
       "      <td>Tracy City town</td>\n",
       "      <td>47</td>\n",
       "      <td>74880</td>\n",
       "      <td>1655</td>\n",
       "      <td>1697</td>\n",
       "      <td>1561</td>\n",
       "      <td>2.54</td>\n",
       "      <td>26.1</td>\n",
       "      <td>-8.01</td>\n",
       "      <td>-136</td>\n",
       "      <td>-5.68</td>\n",
       "      <td>-94</td>\n",
       "      <td>Tennessee</td>\n",
       "    </tr>\n",
       "    <tr>\n",
       "      <th>4</th>\n",
       "      <td>4756560</td>\n",
       "      <td>Palmer</td>\n",
       "      <td>Palmer town</td>\n",
       "      <td>12770064</td>\n",
       "      <td>0</td>\n",
       "      <td>POLYGON ((-85.58601 35.36379, -85.58275 35.368...</td>\n",
       "      <td>4.93</td>\n",
       "      <td>Palmer town</td>\n",
       "      <td>47</td>\n",
       "      <td>56560</td>\n",
       "      <td>805</td>\n",
       "      <td>738</td>\n",
       "      <td>696</td>\n",
       "      <td>2.99</td>\n",
       "      <td>42.5</td>\n",
       "      <td>-5.69</td>\n",
       "      <td>-42</td>\n",
       "      <td>-13.54</td>\n",
       "      <td>-109</td>\n",
       "      <td>Tennessee</td>\n",
       "    </tr>\n",
       "  </tbody>\n",
       "</table>\n",
       "</div>"
      ],
      "text/plain": [
       "     GEOID            NAME             NAMELSAD     ALAND  AWATER                                           geometry  SQMILES                Place  \\\n",
       "0  4724240         Enville         Enville town   3742521       0  POLYGON ((-88.45060 35.39696, -88.45053 35.397...     1.44         Enville town   \n",
       "1  4748920   Milledgeville   Milledgeville town   4162578       0  POLYGON ((-88.38010 35.38286, -88.37993 35.382...     1.61   Milledgeville town   \n",
       "2  4731490  Gruetli-Laager  Gruetli-Laager city  32831802       0  POLYGON ((-85.70419 35.37807, -85.70386 35.377...    12.68  Gruetli-Laager city   \n",
       "3  4774880      Tracy City      Tracy City town  12058477  302368  POLYGON ((-85.78324 35.25530, -85.78290 35.262...     4.66      Tracy City town   \n",
       "4  4756560          Palmer          Palmer town  12770064       0  POLYGON ((-85.58601 35.36379, -85.58275 35.368...     4.93          Palmer town   \n",
       "\n",
       "  StateFIPS PlaceFIPS  09pop  14pop  19pop  hhsize  drive    ST%   ST    LT%   LT       State  \n",
       "0        47     24240    181    226    168    2.75   34.4 -25.66  -58  -7.18  -13   Tennessee  \n",
       "1        47     48920    337    226    297    2.32   37.0  31.42   71 -11.87  -40   Tennessee  \n",
       "2        47     31490   2035   1646   2429    3.25   31.3  47.57  783  19.36  394   Tennessee  \n",
       "3        47     74880   1655   1697   1561    2.54   26.1  -8.01 -136  -5.68  -94   Tennessee  \n",
       "4        47     56560    805    738    696    2.99   42.5  -5.69  -42 -13.54 -109   Tennessee  "
      ]
     },
     "execution_count": 40,
     "metadata": {},
     "output_type": "execute_result"
    }
   ],
   "source": [
    "data_geo.head()"
   ]
  },
  {
   "cell_type": "code",
   "execution_count": 41,
   "id": "5aec5517",
   "metadata": {},
   "outputs": [],
   "source": [
    "data_geo = data_geo.drop(columns = ['ALAND','AWATER','Place'])"
   ]
  },
  {
   "cell_type": "code",
   "execution_count": 42,
   "id": "a3a270b8",
   "metadata": {},
   "outputs": [
    {
     "name": "stdout",
     "output_type": "stream",
     "text": [
      "<class 'geopandas.geodataframe.GeoDataFrame'>\n",
      "RangeIndex: 342 entries, 0 to 341\n",
      "Data columns (total 17 columns):\n",
      " #   Column     Non-Null Count  Dtype   \n",
      "---  ------     --------------  -----   \n",
      " 0   GEOID      342 non-null    object  \n",
      " 1   NAME       342 non-null    object  \n",
      " 2   NAMELSAD   342 non-null    object  \n",
      " 3   geometry   342 non-null    geometry\n",
      " 4   SQMILES    342 non-null    float64 \n",
      " 5   StateFIPS  342 non-null    object  \n",
      " 6   PlaceFIPS  342 non-null    object  \n",
      " 7   09pop      342 non-null    int32   \n",
      " 8   14pop      342 non-null    int32   \n",
      " 9   19pop      342 non-null    int32   \n",
      " 10  hhsize     342 non-null    float64 \n",
      " 11  drive      342 non-null    float64 \n",
      " 12  ST%        342 non-null    float64 \n",
      " 13  ST         342 non-null    int32   \n",
      " 14  LT%        342 non-null    float64 \n",
      " 15  LT         342 non-null    int32   \n",
      " 16  State      342 non-null    object  \n",
      "dtypes: float64(5), geometry(1), int32(5), object(6)\n",
      "memory usage: 38.9+ KB\n"
     ]
    }
   ],
   "source": [
    "data_geo.info()"
   ]
  },
  {
   "cell_type": "code",
   "execution_count": 43,
   "id": "4b14e167",
   "metadata": {},
   "outputs": [
    {
     "data": {
      "text/html": [
       "<div>\n",
       "<style scoped>\n",
       "    .dataframe tbody tr th:only-of-type {\n",
       "        vertical-align: middle;\n",
       "    }\n",
       "\n",
       "    .dataframe tbody tr th {\n",
       "        vertical-align: top;\n",
       "    }\n",
       "\n",
       "    .dataframe thead th {\n",
       "        text-align: right;\n",
       "    }\n",
       "</style>\n",
       "<table border=\"1\" class=\"dataframe\">\n",
       "  <thead>\n",
       "    <tr style=\"text-align: right;\">\n",
       "      <th></th>\n",
       "      <th>GEOID</th>\n",
       "      <th>NAME</th>\n",
       "      <th>NAMELSAD</th>\n",
       "      <th>geometry</th>\n",
       "      <th>SQMILES</th>\n",
       "      <th>StateFIPS</th>\n",
       "      <th>PlaceFIPS</th>\n",
       "      <th>09pop</th>\n",
       "      <th>14pop</th>\n",
       "      <th>19pop</th>\n",
       "      <th>hhsize</th>\n",
       "      <th>drive</th>\n",
       "      <th>ST%</th>\n",
       "      <th>ST</th>\n",
       "      <th>LT%</th>\n",
       "      <th>LT</th>\n",
       "      <th>State</th>\n",
       "    </tr>\n",
       "  </thead>\n",
       "  <tbody>\n",
       "    <tr>\n",
       "      <th>136</th>\n",
       "      <td>4716980</td>\n",
       "      <td>Coopertown</td>\n",
       "      <td>Coopertown town</td>\n",
       "      <td>POLYGON ((-87.03813 36.40682, -87.03807 36.407...</td>\n",
       "      <td>31.58</td>\n",
       "      <td>47</td>\n",
       "      <td>16980</td>\n",
       "      <td>3342</td>\n",
       "      <td>4321</td>\n",
       "      <td>4496</td>\n",
       "      <td>2.79</td>\n",
       "      <td>33.8</td>\n",
       "      <td>4.05</td>\n",
       "      <td>175</td>\n",
       "      <td>34.53</td>\n",
       "      <td>1154</td>\n",
       "      <td>Tennessee</td>\n",
       "    </tr>\n",
       "  </tbody>\n",
       "</table>\n",
       "</div>"
      ],
      "text/plain": [
       "       GEOID        NAME         NAMELSAD                                           geometry  SQMILES StateFIPS PlaceFIPS  09pop  14pop  19pop  \\\n",
       "136  4716980  Coopertown  Coopertown town  POLYGON ((-87.03813 36.40682, -87.03807 36.407...    31.58        47     16980   3342   4321   4496   \n",
       "\n",
       "     hhsize  drive   ST%   ST    LT%    LT       State  \n",
       "136    2.79   33.8  4.05  175  34.53  1154   Tennessee  "
      ]
     },
     "execution_count": 43,
     "metadata": {},
     "output_type": "execute_result"
    }
   ],
   "source": [
    "#check out Coopertown town\n",
    "CT = data_geo.loc[data_geo['GEOID'] == '4716980']\n",
    "CT"
   ]
  },
  {
   "cell_type": "code",
   "execution_count": 44,
   "id": "734f5459",
   "metadata": {},
   "outputs": [],
   "source": [
    "#use population density functions\n",
    "data_geo['19density'] = populationdensity(data_geo['19pop'], data_geo['SQMILES']) #'05-'09 population density\n",
    "data_geo['14density'] = populationdensity(data_geo['14pop'], data_geo['SQMILES']) #'10-'14 population density\n",
    "data_geo['09density'] = populationdensity(data_geo['09pop'], data_geo['SQMILES']) #'15-'19 population density"
   ]
  },
  {
   "cell_type": "code",
   "execution_count": 45,
   "id": "f38e48fe",
   "metadata": {},
   "outputs": [],
   "source": [
    "#use real and percent change functions\n",
    "data_geo['STDensity'] = realchange(data_geo['19density'], data_geo['14density']) #short-term real change in population density\n",
    "data_geo['ST%Density'] = percentchange(data_geo['19density'], data_geo['14density']) #short-term percent change in population density\n",
    "data_geo['LTDensity'] = realchange(data_geo['19density'], data_geo['09density']) #long-term real change in population density\n",
    "data_geo['LT%Density'] = percentchange(data_geo['19density'], data_geo['09density']) #long-term percent change in population density"
   ]
  },
  {
   "cell_type": "markdown",
   "id": "77ea19a1",
   "metadata": {},
   "source": [
    "We've calculated everything now and it's safe to dropna here because we're really not concerned with communities that have no population or population density in any case. Above we've also ensured that Coopertown has none."
   ]
  },
  {
   "cell_type": "code",
   "execution_count": 46,
   "id": "7d149264",
   "metadata": {},
   "outputs": [],
   "source": [
    "data_geo = data_geo.dropna()"
   ]
  },
  {
   "cell_type": "code",
   "execution_count": 47,
   "id": "1507f0c1",
   "metadata": {},
   "outputs": [
    {
     "name": "stdout",
     "output_type": "stream",
     "text": [
      "<class 'geopandas.geodataframe.GeoDataFrame'>\n",
      "Int64Index: 342 entries, 0 to 341\n",
      "Data columns (total 24 columns):\n",
      " #   Column      Non-Null Count  Dtype   \n",
      "---  ------      --------------  -----   \n",
      " 0   GEOID       342 non-null    object  \n",
      " 1   NAME        342 non-null    object  \n",
      " 2   NAMELSAD    342 non-null    object  \n",
      " 3   geometry    342 non-null    geometry\n",
      " 4   SQMILES     342 non-null    float64 \n",
      " 5   StateFIPS   342 non-null    object  \n",
      " 6   PlaceFIPS   342 non-null    object  \n",
      " 7   09pop       342 non-null    int32   \n",
      " 8   14pop       342 non-null    int32   \n",
      " 9   19pop       342 non-null    int32   \n",
      " 10  hhsize      342 non-null    float64 \n",
      " 11  drive       342 non-null    float64 \n",
      " 12  ST%         342 non-null    float64 \n",
      " 13  ST          342 non-null    int32   \n",
      " 14  LT%         342 non-null    float64 \n",
      " 15  LT          342 non-null    int32   \n",
      " 16  State       342 non-null    object  \n",
      " 17  19density   342 non-null    float64 \n",
      " 18  14density   342 non-null    float64 \n",
      " 19  09density   342 non-null    float64 \n",
      " 20  STDensity   342 non-null    float64 \n",
      " 21  ST%Density  342 non-null    float64 \n",
      " 22  LTDensity   342 non-null    float64 \n",
      " 23  LT%Density  342 non-null    float64 \n",
      "dtypes: float64(12), geometry(1), int32(5), object(6)\n",
      "memory usage: 60.1+ KB\n"
     ]
    }
   ],
   "source": [
    "data_geo.info()"
   ]
  },
  {
   "cell_type": "code",
   "execution_count": 48,
   "id": "7f1a1e0b",
   "metadata": {},
   "outputs": [],
   "source": [
    "#rename to df\n",
    "df = data_geo.reset_index(drop=True)"
   ]
  },
  {
   "cell_type": "markdown",
   "id": "5550167c",
   "metadata": {},
   "source": [
    "## Economic Census Building Permits Data\n",
    "\n",
    "Now we will pull the Economic Census permitting information to look at permitting rates and growth. Find the path here: https://www2.census.gov/econ/bps/Place/. \n",
    "\n",
    "In order to compare this to the ACS data reflecting '5-Year Estimates' will be created. However, because of limitations on how this data is formatted and provided, only reflecting \"short-term\" change will be calculated as collected data begins in 2010."
   ]
  },
  {
   "cell_type": "code",
   "execution_count": 49,
   "id": "204b9cde",
   "metadata": {},
   "outputs": [],
   "source": [
    "years = ['2010','2011','2012','2013','2014','2015','2016','2017','2018','2019']"
   ]
  },
  {
   "cell_type": "code",
   "execution_count": 50,
   "id": "ae106d6c",
   "metadata": {},
   "outputs": [
    {
     "name": "stderr",
     "output_type": "stream",
     "text": [
      "C:\\Users\\jmccall\\Anaconda3\\envs\\geospatial\\lib\\site-packages\\pandas\\util\\_decorators.py:311: ParserWarning: Length of header or names does not match length of data. This leads to a loss of data with index_col=False.\n",
      "  return func(*args, **kwargs)\n"
     ]
    },
    {
     "name": "stdout",
     "output_type": "stream",
     "text": [
      "Go ahead\n"
     ]
    }
   ],
   "source": [
    "#South Loop\n",
    "data_appended = []\n",
    "for i in years:\n",
    "    url = 'https://www2.census.gov/econ/bps/Place/South%20Region/so{}a.txt'.format(i)\n",
    "    t = requests.get(url).content\n",
    "    col_names = ('SurveyDate','StateCode','6DigitID','CountyCode','CensusPlaceCode','PlaceFIPS','FIPSMCD','Pop','CSA','CBSA','Footnote','Central',\n",
    "             'ZipPermitOffice','Region','Division','Numberof','Place','1UBuildings','1UUnits','1UValuation','2UBuildings','2UUnits','2UValuation',\n",
    "             '3to4UBuildings','3to4UUnits','3to4UValuation','5UBuildings','5UUnits','5UValuation') #set column names\n",
    "    header = 2 #set to skip the header.. their column names sux\n",
    "    #At this point decoded is not a file, it is a character string with the content from the web page. The next lines make it into a file.\n",
    "    data = pd.read_csv(io.StringIO(t.decode('utf-8')), skiprows = header, \n",
    "                      header = None, names = col_names,skipinitialspace = True, \n",
    "                      index_col = False,dtype = str)\n",
    "    data_appended.append(data)\n",
    "    \n",
    "data_appended = pd.concat(data_appended)\n",
    "south = data_appended\n",
    "\n",
    "print('Go ahead')\n",
    "#Note that the error is because I am not parsing the last few columns because they are duplicates of the first set of permitting numbers."
   ]
  },
  {
   "cell_type": "code",
   "execution_count": 51,
   "id": "59b8cfd3",
   "metadata": {},
   "outputs": [
    {
     "data": {
      "text/html": [
       "<div>\n",
       "<style scoped>\n",
       "    .dataframe tbody tr th:only-of-type {\n",
       "        vertical-align: middle;\n",
       "    }\n",
       "\n",
       "    .dataframe tbody tr th {\n",
       "        vertical-align: top;\n",
       "    }\n",
       "\n",
       "    .dataframe thead th {\n",
       "        text-align: right;\n",
       "    }\n",
       "</style>\n",
       "<table border=\"1\" class=\"dataframe\">\n",
       "  <thead>\n",
       "    <tr style=\"text-align: right;\">\n",
       "      <th></th>\n",
       "      <th>SurveyDate</th>\n",
       "      <th>StateCode</th>\n",
       "      <th>6DigitID</th>\n",
       "      <th>CountyCode</th>\n",
       "      <th>CensusPlaceCode</th>\n",
       "      <th>PlaceFIPS</th>\n",
       "      <th>FIPSMCD</th>\n",
       "      <th>Pop</th>\n",
       "      <th>CSA</th>\n",
       "      <th>CBSA</th>\n",
       "      <th>Footnote</th>\n",
       "      <th>Central</th>\n",
       "      <th>ZipPermitOffice</th>\n",
       "      <th>Region</th>\n",
       "      <th>Division</th>\n",
       "      <th>Numberof</th>\n",
       "      <th>Place</th>\n",
       "      <th>1UBuildings</th>\n",
       "      <th>1UUnits</th>\n",
       "      <th>1UValuation</th>\n",
       "      <th>2UBuildings</th>\n",
       "      <th>2UUnits</th>\n",
       "      <th>2UValuation</th>\n",
       "      <th>3to4UBuildings</th>\n",
       "      <th>3to4UUnits</th>\n",
       "      <th>3to4UValuation</th>\n",
       "      <th>5UBuildings</th>\n",
       "      <th>5UUnits</th>\n",
       "      <th>5UValuation</th>\n",
       "    </tr>\n",
       "  </thead>\n",
       "  <tbody>\n",
       "    <tr>\n",
       "      <th>0</th>\n",
       "      <td>2010</td>\n",
       "      <td>01</td>\n",
       "      <td>001000</td>\n",
       "      <td>067</td>\n",
       "      <td>0005</td>\n",
       "      <td>00124</td>\n",
       "      <td>90009</td>\n",
       "      <td>2987</td>\n",
       "      <td>222</td>\n",
       "      <td>20020</td>\n",
       "      <td>NaN</td>\n",
       "      <td>NaN</td>\n",
       "      <td>36310</td>\n",
       "      <td>3</td>\n",
       "      <td>6</td>\n",
       "      <td>12</td>\n",
       "      <td>Abbeville</td>\n",
       "      <td>1</td>\n",
       "      <td>1</td>\n",
       "      <td>200000</td>\n",
       "      <td>0</td>\n",
       "      <td>0</td>\n",
       "      <td>0</td>\n",
       "      <td>0</td>\n",
       "      <td>0</td>\n",
       "      <td>0</td>\n",
       "      <td>0</td>\n",
       "      <td>0</td>\n",
       "      <td>0</td>\n",
       "    </tr>\n",
       "    <tr>\n",
       "      <th>1</th>\n",
       "      <td>2010</td>\n",
       "      <td>01</td>\n",
       "      <td>002000</td>\n",
       "      <td>073</td>\n",
       "      <td>0010</td>\n",
       "      <td>00460</td>\n",
       "      <td>91404</td>\n",
       "      <td>4965</td>\n",
       "      <td>142</td>\n",
       "      <td>13820</td>\n",
       "      <td>NaN</td>\n",
       "      <td>NaN</td>\n",
       "      <td>35005</td>\n",
       "      <td>3</td>\n",
       "      <td>6</td>\n",
       "      <td>12</td>\n",
       "      <td>Adamsville</td>\n",
       "      <td>1</td>\n",
       "      <td>1</td>\n",
       "      <td>312000</td>\n",
       "      <td>0</td>\n",
       "      <td>0</td>\n",
       "      <td>0</td>\n",
       "      <td>0</td>\n",
       "      <td>0</td>\n",
       "      <td>0</td>\n",
       "      <td>0</td>\n",
       "      <td>0</td>\n",
       "      <td>0</td>\n",
       "    </tr>\n",
       "  </tbody>\n",
       "</table>\n",
       "</div>"
      ],
      "text/plain": [
       "  SurveyDate StateCode 6DigitID CountyCode CensusPlaceCode PlaceFIPS FIPSMCD    Pop  CSA   CBSA Footnote Central ZipPermitOffice Region Division  \\\n",
       "0       2010        01   001000        067            0005    00124   90009   2987   222  20020      NaN     NaN     36310            3        6   \n",
       "1       2010        01   002000        073            0010    00460   91404   4965   142  13820      NaN     NaN     35005            3        6   \n",
       "\n",
       "  Numberof       Place 1UBuildings 1UUnits 1UValuation 2UBuildings 2UUnits 2UValuation 3to4UBuildings 3to4UUnits 3to4UValuation 5UBuildings 5UUnits  \\\n",
       "0       12   Abbeville           1       1      200000           0       0           0              0          0              0           0       0   \n",
       "1       12  Adamsville           1       1      312000           0       0           0              0          0              0           0       0   \n",
       "\n",
       "  5UValuation  \n",
       "0           0  \n",
       "1           0  "
      ]
     },
     "execution_count": 51,
     "metadata": {},
     "output_type": "execute_result"
    }
   ],
   "source": [
    "south.head(2)"
   ]
  },
  {
   "cell_type": "code",
   "execution_count": 52,
   "id": "3237cb44",
   "metadata": {},
   "outputs": [],
   "source": [
    "bp = south"
   ]
  },
  {
   "cell_type": "code",
   "execution_count": 53,
   "id": "68902427",
   "metadata": {},
   "outputs": [],
   "source": [
    "bp = bp.loc[bp['StateCode'] == '47']"
   ]
  },
  {
   "cell_type": "code",
   "execution_count": 54,
   "id": "51f55700",
   "metadata": {},
   "outputs": [
    {
     "data": {
      "text/html": [
       "<div>\n",
       "<style scoped>\n",
       "    .dataframe tbody tr th:only-of-type {\n",
       "        vertical-align: middle;\n",
       "    }\n",
       "\n",
       "    .dataframe tbody tr th {\n",
       "        vertical-align: top;\n",
       "    }\n",
       "\n",
       "    .dataframe thead th {\n",
       "        text-align: right;\n",
       "    }\n",
       "</style>\n",
       "<table border=\"1\" class=\"dataframe\">\n",
       "  <thead>\n",
       "    <tr style=\"text-align: right;\">\n",
       "      <th></th>\n",
       "      <th>SurveyDate</th>\n",
       "      <th>StateCode</th>\n",
       "      <th>6DigitID</th>\n",
       "      <th>CountyCode</th>\n",
       "      <th>CensusPlaceCode</th>\n",
       "      <th>PlaceFIPS</th>\n",
       "      <th>FIPSMCD</th>\n",
       "      <th>Pop</th>\n",
       "      <th>CSA</th>\n",
       "      <th>CBSA</th>\n",
       "      <th>Footnote</th>\n",
       "      <th>Central</th>\n",
       "      <th>ZipPermitOffice</th>\n",
       "      <th>Region</th>\n",
       "      <th>Division</th>\n",
       "      <th>Numberof</th>\n",
       "      <th>Place</th>\n",
       "      <th>1UBuildings</th>\n",
       "      <th>1UUnits</th>\n",
       "      <th>1UValuation</th>\n",
       "      <th>2UBuildings</th>\n",
       "      <th>2UUnits</th>\n",
       "      <th>2UValuation</th>\n",
       "      <th>3to4UBuildings</th>\n",
       "      <th>3to4UUnits</th>\n",
       "      <th>3to4UValuation</th>\n",
       "      <th>5UBuildings</th>\n",
       "      <th>5UUnits</th>\n",
       "      <th>5UValuation</th>\n",
       "    </tr>\n",
       "  </thead>\n",
       "  <tbody>\n",
       "    <tr>\n",
       "      <th>2737</th>\n",
       "      <td>2010</td>\n",
       "      <td>47</td>\n",
       "      <td>003000</td>\n",
       "      <td>109</td>\n",
       "      <td>0010</td>\n",
       "      <td>00240</td>\n",
       "      <td>90016</td>\n",
       "      <td>1983</td>\n",
       "      <td>999</td>\n",
       "      <td>99999</td>\n",
       "      <td>2</td>\n",
       "      <td>NaN</td>\n",
       "      <td>38310</td>\n",
       "      <td>3</td>\n",
       "      <td>6</td>\n",
       "      <td>12</td>\n",
       "      <td>Adamsville town</td>\n",
       "      <td>7</td>\n",
       "      <td>7</td>\n",
       "      <td>100857</td>\n",
       "      <td>0</td>\n",
       "      <td>0</td>\n",
       "      <td>0</td>\n",
       "      <td>0</td>\n",
       "      <td>0</td>\n",
       "      <td>0</td>\n",
       "      <td>0</td>\n",
       "      <td>0</td>\n",
       "      <td>0</td>\n",
       "    </tr>\n",
       "    <tr>\n",
       "      <th>2738</th>\n",
       "      <td>2010</td>\n",
       "      <td>47</td>\n",
       "      <td>005000</td>\n",
       "      <td>033</td>\n",
       "      <td>0015</td>\n",
       "      <td>00440</td>\n",
       "      <td>90024</td>\n",
       "      <td>2392</td>\n",
       "      <td>999</td>\n",
       "      <td>99999</td>\n",
       "      <td>NaN</td>\n",
       "      <td>NaN</td>\n",
       "      <td>38001</td>\n",
       "      <td>3</td>\n",
       "      <td>6</td>\n",
       "      <td>12</td>\n",
       "      <td>Alamo town</td>\n",
       "      <td>1</td>\n",
       "      <td>1</td>\n",
       "      <td>75000</td>\n",
       "      <td>0</td>\n",
       "      <td>0</td>\n",
       "      <td>0</td>\n",
       "      <td>0</td>\n",
       "      <td>0</td>\n",
       "      <td>0</td>\n",
       "      <td>0</td>\n",
       "      <td>0</td>\n",
       "      <td>0</td>\n",
       "    </tr>\n",
       "    <tr>\n",
       "      <th>2739</th>\n",
       "      <td>2010</td>\n",
       "      <td>47</td>\n",
       "      <td>007000</td>\n",
       "      <td>009</td>\n",
       "      <td>0020</td>\n",
       "      <td>00540</td>\n",
       "      <td>92136</td>\n",
       "      <td>7734</td>\n",
       "      <td>314</td>\n",
       "      <td>28940</td>\n",
       "      <td>NaN</td>\n",
       "      <td>NaN</td>\n",
       "      <td>37701</td>\n",
       "      <td>3</td>\n",
       "      <td>6</td>\n",
       "      <td>12</td>\n",
       "      <td>Alcoa</td>\n",
       "      <td>1</td>\n",
       "      <td>1</td>\n",
       "      <td>85000</td>\n",
       "      <td>0</td>\n",
       "      <td>0</td>\n",
       "      <td>0</td>\n",
       "      <td>0</td>\n",
       "      <td>0</td>\n",
       "      <td>0</td>\n",
       "      <td>0</td>\n",
       "      <td>0</td>\n",
       "      <td>0</td>\n",
       "    </tr>\n",
       "    <tr>\n",
       "      <th>2740</th>\n",
       "      <td>2010</td>\n",
       "      <td>47</td>\n",
       "      <td>009000</td>\n",
       "      <td>041</td>\n",
       "      <td>0025</td>\n",
       "      <td>00620</td>\n",
       "      <td>93440</td>\n",
       "      <td>814</td>\n",
       "      <td>999</td>\n",
       "      <td>99999</td>\n",
       "      <td>NaN</td>\n",
       "      <td>NaN</td>\n",
       "      <td>37012</td>\n",
       "      <td>3</td>\n",
       "      <td>6</td>\n",
       "      <td>12</td>\n",
       "      <td>Alexandria town</td>\n",
       "      <td>1</td>\n",
       "      <td>1</td>\n",
       "      <td>50000</td>\n",
       "      <td>0</td>\n",
       "      <td>0</td>\n",
       "      <td>0</td>\n",
       "      <td>0</td>\n",
       "      <td>0</td>\n",
       "      <td>0</td>\n",
       "      <td>0</td>\n",
       "      <td>0</td>\n",
       "      <td>0</td>\n",
       "    </tr>\n",
       "    <tr>\n",
       "      <th>2741</th>\n",
       "      <td>2010</td>\n",
       "      <td>47</td>\n",
       "      <td>011000</td>\n",
       "      <td>141</td>\n",
       "      <td>0030</td>\n",
       "      <td>00640</td>\n",
       "      <td>90792</td>\n",
       "      <td>2942</td>\n",
       "      <td>999</td>\n",
       "      <td>99999</td>\n",
       "      <td>2</td>\n",
       "      <td>NaN</td>\n",
       "      <td>38506</td>\n",
       "      <td>3</td>\n",
       "      <td>6</td>\n",
       "      <td>12</td>\n",
       "      <td>Algood</td>\n",
       "      <td>9</td>\n",
       "      <td>9</td>\n",
       "      <td>1086400</td>\n",
       "      <td>0</td>\n",
       "      <td>0</td>\n",
       "      <td>0</td>\n",
       "      <td>0</td>\n",
       "      <td>0</td>\n",
       "      <td>0</td>\n",
       "      <td>0</td>\n",
       "      <td>0</td>\n",
       "      <td>0</td>\n",
       "    </tr>\n",
       "  </tbody>\n",
       "</table>\n",
       "</div>"
      ],
      "text/plain": [
       "     SurveyDate StateCode 6DigitID CountyCode CensusPlaceCode PlaceFIPS FIPSMCD    Pop  CSA   CBSA Footnote Central ZipPermitOffice Region Division  \\\n",
       "2737       2010        47   003000        109            0010    00240   90016   1983   999  99999        2     NaN     38310            3        6   \n",
       "2738       2010        47   005000        033            0015    00440   90024   2392   999  99999      NaN     NaN     38001            3        6   \n",
       "2739       2010        47   007000        009            0020    00540   92136   7734   314  28940      NaN     NaN     37701            3        6   \n",
       "2740       2010        47   009000        041            0025    00620   93440    814   999  99999      NaN     NaN     37012            3        6   \n",
       "2741       2010        47   011000        141            0030    00640   90792   2942   999  99999        2     NaN     38506            3        6   \n",
       "\n",
       "     Numberof            Place 1UBuildings 1UUnits 1UValuation 2UBuildings 2UUnits 2UValuation 3to4UBuildings 3to4UUnits 3to4UValuation 5UBuildings  \\\n",
       "2737       12  Adamsville town           7       7      100857           0       0           0              0          0              0           0   \n",
       "2738       12       Alamo town           1       1       75000           0       0           0              0          0              0           0   \n",
       "2739       12            Alcoa           1       1       85000           0       0           0              0          0              0           0   \n",
       "2740       12  Alexandria town           1       1       50000           0       0           0              0          0              0           0   \n",
       "2741       12           Algood           9       9     1086400           0       0           0              0          0              0           0   \n",
       "\n",
       "     5UUnits 5UValuation  \n",
       "2737       0           0  \n",
       "2738       0           0  \n",
       "2739       0           0  \n",
       "2740       0           0  \n",
       "2741       0           0  "
      ]
     },
     "execution_count": 54,
     "metadata": {},
     "output_type": "execute_result"
    }
   ],
   "source": [
    "bp.head()"
   ]
  },
  {
   "cell_type": "code",
   "execution_count": 55,
   "id": "0f82480c",
   "metadata": {},
   "outputs": [],
   "source": [
    "# #drop noise\n",
    "# bp = bp.drop(columns = ['6DigitID','CountyCode','CensusPlaceCode','FIPSMCD','Pop','Region','CSA','Footnote','Central',\n",
    "#                                                   'ZipPermitOffice','Region','Division','Numberof'])"
   ]
  },
  {
   "cell_type": "code",
   "execution_count": 56,
   "id": "cda547b0",
   "metadata": {},
   "outputs": [],
   "source": [
    "#there are trailing zeroes on the place fips that we need to drop, so split them and take the first column as new value\n",
    "doot = bp['PlaceFIPS'].str.split(pat = ' ', expand=True)\n",
    "#doot[0]\n",
    "#doot[1]"
   ]
  },
  {
   "cell_type": "code",
   "execution_count": 57,
   "id": "e1f93d44",
   "metadata": {},
   "outputs": [
    {
     "name": "stderr",
     "output_type": "stream",
     "text": [
      "C:\\Users\\jmccall\\Anaconda3\\envs\\geospatial\\lib\\site-packages\\pandas\\core\\frame.py:3607: SettingWithCopyWarning: \n",
      "A value is trying to be set on a copy of a slice from a DataFrame.\n",
      "Try using .loc[row_indexer,col_indexer] = value instead\n",
      "\n",
      "See the caveats in the documentation: https://pandas.pydata.org/pandas-docs/stable/user_guide/indexing.html#returning-a-view-versus-a-copy\n",
      "  self._set_item(key, value)\n"
     ]
    }
   ],
   "source": [
    "bp['PlaceFIPS'] = doot[0]"
   ]
  },
  {
   "cell_type": "code",
   "execution_count": 58,
   "id": "64eb1c03",
   "metadata": {},
   "outputs": [],
   "source": [
    "# #have checked, there are no leading or trailing zeroes here\n",
    "# doop = bp['StateCode'].str.split(pat = ' ', expand=True)\n",
    "# #doop[0]\n",
    "# #doop[1]"
   ]
  },
  {
   "cell_type": "code",
   "execution_count": 59,
   "id": "b774b666",
   "metadata": {},
   "outputs": [],
   "source": [
    "#join the two now to create a GEOID that matches our other dataframe\n",
    "bp['GEOID'] = bp['StateCode'] + bp['PlaceFIPS']"
   ]
  },
  {
   "cell_type": "code",
   "execution_count": 60,
   "id": "c7243f70",
   "metadata": {},
   "outputs": [
    {
     "data": {
      "text/plain": [
       "SurveyDate            0\n",
       "StateCode             0\n",
       "6DigitID              0\n",
       "CountyCode            0\n",
       "CensusPlaceCode     583\n",
       "PlaceFIPS           106\n",
       "FIPSMCD             107\n",
       "Pop                 160\n",
       "CSA                   0\n",
       "CBSA                  0\n",
       "Footnote           2699\n",
       "Central            3107\n",
       "ZipPermitOffice       0\n",
       "Region                0\n",
       "Division              0\n",
       "Numberof              0\n",
       "Place                 0\n",
       "1UBuildings           0\n",
       "1UUnits               0\n",
       "1UValuation           0\n",
       "2UBuildings           0\n",
       "2UUnits               0\n",
       "2UValuation           0\n",
       "3to4UBuildings        0\n",
       "3to4UUnits            0\n",
       "3to4UValuation        0\n",
       "5UBuildings           0\n",
       "5UUnits               0\n",
       "5UValuation           0\n",
       "GEOID               106\n",
       "dtype: int64"
      ]
     },
     "execution_count": 60,
     "metadata": {},
     "output_type": "execute_result"
    }
   ],
   "source": [
    "#count null values\n",
    "bp.isna().sum()"
   ]
  },
  {
   "cell_type": "markdown",
   "id": "ee30e03c",
   "metadata": {},
   "source": [
    "drop geos with no GEOID"
   ]
  },
  {
   "cell_type": "code",
   "execution_count": 61,
   "id": "42927c0e",
   "metadata": {},
   "outputs": [],
   "source": [
    "bp = bp.dropna(subset = ['GEOID'])"
   ]
  },
  {
   "cell_type": "markdown",
   "id": "a566afb6",
   "metadata": {},
   "source": [
    "drop unneeded columns"
   ]
  },
  {
   "cell_type": "code",
   "execution_count": 62,
   "id": "eeb09078",
   "metadata": {},
   "outputs": [],
   "source": [
    "#in group by we can drop StateCode, 6 DigitID, Census Place Code, PlaceFIPS, Pop, Footnote, Central, Zip Permit Office, Region, Division, and Numberof\n",
    "bp = bp.drop(columns = ['StateCode','6DigitID','CensusPlaceCode','PlaceFIPS','Pop','Footnote','FIPSMCD','Central','ZipPermitOffice','Region','Division','Numberof'])"
   ]
  },
  {
   "cell_type": "markdown",
   "id": "9495d83a",
   "metadata": {},
   "source": [
    "Calculate total permits issued."
   ]
  },
  {
   "cell_type": "code",
   "execution_count": 63,
   "id": "af534b3e",
   "metadata": {},
   "outputs": [],
   "source": [
    "cols = ['1UBuildings','1UUnits','1UValuation','2UBuildings','2UUnits','2UValuation',\n",
    "        '3to4UBuildings','3to4UUnits','3to4UValuation','5UBuildings','5UUnits','5UValuation']\n",
    "bp[cols] = bp[cols].astype(float)"
   ]
  },
  {
   "cell_type": "code",
   "execution_count": 64,
   "id": "491ae11e",
   "metadata": {},
   "outputs": [],
   "source": [
    "bp['totalunits'] = bp['1UUnits']+bp['2UUnits']+bp['3to4UUnits']+bp['5UUnits']\n",
    "bp = bp.drop(columns = ['1UBuildings','1UUnits','1UValuation','2UBuildings','2UUnits','2UValuation',\n",
    "                        '3to4UBuildings','3to4UUnits','3to4UValuation','5UBuildings','5UUnits','5UValuation'])"
   ]
  },
  {
   "cell_type": "code",
   "execution_count": 65,
   "id": "22d0b84b",
   "metadata": {},
   "outputs": [
    {
     "name": "stdout",
     "output_type": "stream",
     "text": [
      "Coopertown is there\n"
     ]
    }
   ],
   "source": [
    "if bp['Place'].str.contains('Coopertown').any():\n",
    "    print('Coopertown is there')"
   ]
  },
  {
   "cell_type": "markdown",
   "id": "1275a01d",
   "metadata": {},
   "source": [
    "Now let's fan out the SurveyDate like we did with the years above so it becomes easier to calculate \"5-Year Estimates\" and then change."
   ]
  },
  {
   "cell_type": "code",
   "execution_count": 66,
   "id": "431c2656",
   "metadata": {},
   "outputs": [],
   "source": [
    "#this keeps all of the data and sets it to index which we will subsequently unpack back into columns\n",
    "bp = bp.pivot_table(values = 'totalunits', index=['Place','GEOID','CBSA','CSA'], columns = 'SurveyDate')"
   ]
  },
  {
   "cell_type": "code",
   "execution_count": 67,
   "id": "91edf467",
   "metadata": {},
   "outputs": [
    {
     "data": {
      "text/html": [
       "<div>\n",
       "<style scoped>\n",
       "    .dataframe tbody tr th:only-of-type {\n",
       "        vertical-align: middle;\n",
       "    }\n",
       "\n",
       "    .dataframe tbody tr th {\n",
       "        vertical-align: top;\n",
       "    }\n",
       "\n",
       "    .dataframe thead th {\n",
       "        text-align: right;\n",
       "    }\n",
       "</style>\n",
       "<table border=\"1\" class=\"dataframe\">\n",
       "  <thead>\n",
       "    <tr style=\"text-align: right;\">\n",
       "      <th></th>\n",
       "      <th></th>\n",
       "      <th></th>\n",
       "      <th>SurveyDate</th>\n",
       "      <th>2010</th>\n",
       "      <th>2011</th>\n",
       "      <th>2012</th>\n",
       "      <th>2013</th>\n",
       "      <th>2014</th>\n",
       "      <th>2015</th>\n",
       "      <th>2016</th>\n",
       "      <th>2017</th>\n",
       "      <th>2018</th>\n",
       "      <th>2019</th>\n",
       "    </tr>\n",
       "    <tr>\n",
       "      <th>Place</th>\n",
       "      <th>GEOID</th>\n",
       "      <th>CBSA</th>\n",
       "      <th>CSA</th>\n",
       "      <th></th>\n",
       "      <th></th>\n",
       "      <th></th>\n",
       "      <th></th>\n",
       "      <th></th>\n",
       "      <th></th>\n",
       "      <th></th>\n",
       "      <th></th>\n",
       "      <th></th>\n",
       "      <th></th>\n",
       "    </tr>\n",
       "  </thead>\n",
       "  <tbody>\n",
       "    <tr>\n",
       "      <th>Adamsville town</th>\n",
       "      <th>4700240</th>\n",
       "      <th>99999</th>\n",
       "      <th>999</th>\n",
       "      <td>7.0</td>\n",
       "      <td>6.0</td>\n",
       "      <td>13.0</td>\n",
       "      <td>1.0</td>\n",
       "      <td>1.0</td>\n",
       "      <td>1.0</td>\n",
       "      <td>1.0</td>\n",
       "      <td>1.0</td>\n",
       "      <td>1.0</td>\n",
       "      <td>1.0</td>\n",
       "    </tr>\n",
       "    <tr>\n",
       "      <th rowspan=\"3\" valign=\"top\">Alamo town</th>\n",
       "      <th rowspan=\"3\" valign=\"top\">4700440</th>\n",
       "      <th rowspan=\"2\" valign=\"top\">27180</th>\n",
       "      <th>297</th>\n",
       "      <td>NaN</td>\n",
       "      <td>NaN</td>\n",
       "      <td>NaN</td>\n",
       "      <td>NaN</td>\n",
       "      <td>NaN</td>\n",
       "      <td>NaN</td>\n",
       "      <td>0.0</td>\n",
       "      <td>0.0</td>\n",
       "      <td>NaN</td>\n",
       "      <td>NaN</td>\n",
       "    </tr>\n",
       "    <tr>\n",
       "      <th>999</th>\n",
       "      <td>NaN</td>\n",
       "      <td>NaN</td>\n",
       "      <td>NaN</td>\n",
       "      <td>NaN</td>\n",
       "      <td>0.0</td>\n",
       "      <td>0.0</td>\n",
       "      <td>NaN</td>\n",
       "      <td>NaN</td>\n",
       "      <td>NaN</td>\n",
       "      <td>NaN</td>\n",
       "    </tr>\n",
       "    <tr>\n",
       "      <th>99999</th>\n",
       "      <th>999</th>\n",
       "      <td>1.0</td>\n",
       "      <td>0.0</td>\n",
       "      <td>0.0</td>\n",
       "      <td>0.0</td>\n",
       "      <td>NaN</td>\n",
       "      <td>NaN</td>\n",
       "      <td>NaN</td>\n",
       "      <td>NaN</td>\n",
       "      <td>NaN</td>\n",
       "      <td>NaN</td>\n",
       "    </tr>\n",
       "    <tr>\n",
       "      <th>Alcoa</th>\n",
       "      <th>4700540</th>\n",
       "      <th>28940</th>\n",
       "      <th>314</th>\n",
       "      <td>1.0</td>\n",
       "      <td>48.0</td>\n",
       "      <td>33.0</td>\n",
       "      <td>46.0</td>\n",
       "      <td>291.0</td>\n",
       "      <td>254.0</td>\n",
       "      <td>224.0</td>\n",
       "      <td>208.0</td>\n",
       "      <td>232.0</td>\n",
       "      <td>NaN</td>\n",
       "    </tr>\n",
       "  </tbody>\n",
       "</table>\n",
       "</div>"
      ],
      "text/plain": [
       "SurveyDate                         2010  2011  2012  2013   2014   2015   2016   2017   2018  2019\n",
       "Place           GEOID   CBSA  CSA                                                                 \n",
       "Adamsville town 4700240 99999 999   7.0   6.0  13.0   1.0    1.0    1.0    1.0    1.0    1.0   1.0\n",
       "Alamo town      4700440 27180 297   NaN   NaN   NaN   NaN    NaN    NaN    0.0    0.0    NaN   NaN\n",
       "                              999   NaN   NaN   NaN   NaN    0.0    0.0    NaN    NaN    NaN   NaN\n",
       "                        99999 999   1.0   0.0   0.0   0.0    NaN    NaN    NaN    NaN    NaN   NaN\n",
       "Alcoa           4700540 28940 314   1.0  48.0  33.0  46.0  291.0  254.0  224.0  208.0  232.0   NaN"
      ]
     },
     "execution_count": 67,
     "metadata": {},
     "output_type": "execute_result"
    }
   ],
   "source": [
    "bp.head()"
   ]
  },
  {
   "cell_type": "code",
   "execution_count": 68,
   "id": "a43ff8c6",
   "metadata": {},
   "outputs": [],
   "source": [
    "#unpack indices\n",
    "bp = bp.reset_index()"
   ]
  },
  {
   "cell_type": "code",
   "execution_count": 69,
   "id": "cc619859",
   "metadata": {},
   "outputs": [
    {
     "name": "stdout",
     "output_type": "stream",
     "text": [
      "Coopertown is there\n"
     ]
    }
   ],
   "source": [
    "if bp['Place'].str.contains('Coopertown').any():\n",
    "    print('Coopertown is there')"
   ]
  },
  {
   "cell_type": "markdown",
   "id": "3225275d",
   "metadata": {},
   "source": [
    "Now reassign null values as zeroes and then calculate 5 year estimates, after this we can definitely drop rows with zero values."
   ]
  },
  {
   "cell_type": "code",
   "execution_count": 70,
   "id": "fcb1ed8c",
   "metadata": {},
   "outputs": [],
   "source": [
    "#keep first values of: Place, CBSA, CSA\n",
    "#sum all of the years\n",
    "bp = bp.groupby('GEOID').agg({'Place': lambda x: x.iloc[0],'CBSA':lambda x: x.iloc[0],'CSA':lambda x: x.iloc[0], \n",
    "                             '2010':sum,'2011':sum,'2012':sum,'2013':sum,'2014':sum,'2015':sum,'2016':sum,'2017':sum,'2018':sum,'2019':sum})"
   ]
  },
  {
   "cell_type": "code",
   "execution_count": 71,
   "id": "e389a228",
   "metadata": {},
   "outputs": [],
   "source": [
    "#replace null values with 0\n",
    "bp = bp.reset_index()\n",
    "bp = bp.fillna(0)"
   ]
  },
  {
   "cell_type": "code",
   "execution_count": 72,
   "id": "a8e648b5",
   "metadata": {},
   "outputs": [],
   "source": [
    "bp['14permits'] = (bp['2010']+bp['2011']+bp['2012']+bp['2013']+bp['2014'])/5\n",
    "bp['19permits'] = (bp['2015']+bp['2016']+bp['2017']+bp['2018']+bp['2019'])/5"
   ]
  },
  {
   "cell_type": "code",
   "execution_count": 73,
   "id": "162976cc",
   "metadata": {},
   "outputs": [
    {
     "data": {
      "text/html": [
       "<div>\n",
       "<style scoped>\n",
       "    .dataframe tbody tr th:only-of-type {\n",
       "        vertical-align: middle;\n",
       "    }\n",
       "\n",
       "    .dataframe tbody tr th {\n",
       "        vertical-align: top;\n",
       "    }\n",
       "\n",
       "    .dataframe thead th {\n",
       "        text-align: right;\n",
       "    }\n",
       "</style>\n",
       "<table border=\"1\" class=\"dataframe\">\n",
       "  <thead>\n",
       "    <tr style=\"text-align: right;\">\n",
       "      <th>SurveyDate</th>\n",
       "      <th>GEOID</th>\n",
       "      <th>Place</th>\n",
       "      <th>CBSA</th>\n",
       "      <th>CSA</th>\n",
       "      <th>2010</th>\n",
       "      <th>2011</th>\n",
       "      <th>2012</th>\n",
       "      <th>2013</th>\n",
       "      <th>2014</th>\n",
       "      <th>2015</th>\n",
       "      <th>2016</th>\n",
       "      <th>2017</th>\n",
       "      <th>2018</th>\n",
       "      <th>2019</th>\n",
       "      <th>14permits</th>\n",
       "      <th>19permits</th>\n",
       "    </tr>\n",
       "  </thead>\n",
       "  <tbody>\n",
       "    <tr>\n",
       "      <th>0</th>\n",
       "      <td>4700000</td>\n",
       "      <td>Hartsville-Trousdale County</td>\n",
       "      <td>34980</td>\n",
       "      <td>400</td>\n",
       "      <td>0.0</td>\n",
       "      <td>0.0</td>\n",
       "      <td>0.0</td>\n",
       "      <td>0.0</td>\n",
       "      <td>72.0</td>\n",
       "      <td>96.0</td>\n",
       "      <td>89.0</td>\n",
       "      <td>107.0</td>\n",
       "      <td>146.0</td>\n",
       "      <td>121.0</td>\n",
       "      <td>14.4</td>\n",
       "      <td>111.8</td>\n",
       "    </tr>\n",
       "    <tr>\n",
       "      <th>1</th>\n",
       "      <td>4700240</td>\n",
       "      <td>Adamsville town</td>\n",
       "      <td>99999</td>\n",
       "      <td>999</td>\n",
       "      <td>7.0</td>\n",
       "      <td>6.0</td>\n",
       "      <td>13.0</td>\n",
       "      <td>1.0</td>\n",
       "      <td>1.0</td>\n",
       "      <td>1.0</td>\n",
       "      <td>1.0</td>\n",
       "      <td>1.0</td>\n",
       "      <td>1.0</td>\n",
       "      <td>1.0</td>\n",
       "      <td>5.6</td>\n",
       "      <td>1.0</td>\n",
       "    </tr>\n",
       "  </tbody>\n",
       "</table>\n",
       "</div>"
      ],
      "text/plain": [
       "SurveyDate    GEOID                        Place   CBSA  CSA  2010  2011  2012  2013  2014  2015  2016   2017   2018   2019  14permits  19permits\n",
       "0           4700000  Hartsville-Trousdale County  34980  400   0.0   0.0   0.0   0.0  72.0  96.0  89.0  107.0  146.0  121.0       14.4      111.8\n",
       "1           4700240              Adamsville town  99999  999   7.0   6.0  13.0   1.0   1.0   1.0   1.0    1.0    1.0    1.0        5.6        1.0"
      ]
     },
     "execution_count": 73,
     "metadata": {},
     "output_type": "execute_result"
    }
   ],
   "source": [
    "bp.head(2)"
   ]
  },
  {
   "cell_type": "code",
   "execution_count": 74,
   "id": "cdf72bbd",
   "metadata": {},
   "outputs": [],
   "source": [
    "bp = bp.drop(columns = ['2010', '2011', '2012', '2013', '2014', '2015', '2016', '2017', '2018', '2019'])"
   ]
  },
  {
   "cell_type": "code",
   "execution_count": 75,
   "id": "5ce0106e",
   "metadata": {},
   "outputs": [],
   "source": [
    "bp['permreal'] = realchange(bp['19permits'], bp['14permits'])\n",
    "bp['perm%'] = percentchange(bp['19permits'], bp['14permits'])"
   ]
  },
  {
   "cell_type": "code",
   "execution_count": 76,
   "id": "4856a19d",
   "metadata": {},
   "outputs": [],
   "source": [
    "bp['StateFIPS'] = bp['GEOID'].str.slice(stop = 2)"
   ]
  },
  {
   "cell_type": "code",
   "execution_count": 77,
   "id": "847a002e",
   "metadata": {},
   "outputs": [
    {
     "data": {
      "text/html": [
       "<div>\n",
       "<style scoped>\n",
       "    .dataframe tbody tr th:only-of-type {\n",
       "        vertical-align: middle;\n",
       "    }\n",
       "\n",
       "    .dataframe tbody tr th {\n",
       "        vertical-align: top;\n",
       "    }\n",
       "\n",
       "    .dataframe thead th {\n",
       "        text-align: right;\n",
       "    }\n",
       "</style>\n",
       "<table border=\"1\" class=\"dataframe\">\n",
       "  <thead>\n",
       "    <tr style=\"text-align: right;\">\n",
       "      <th>SurveyDate</th>\n",
       "      <th>GEOID</th>\n",
       "      <th>Place</th>\n",
       "      <th>CBSA</th>\n",
       "      <th>CSA</th>\n",
       "      <th>14permits</th>\n",
       "      <th>19permits</th>\n",
       "      <th>permreal</th>\n",
       "      <th>perm%</th>\n",
       "      <th>StateFIPS</th>\n",
       "    </tr>\n",
       "  </thead>\n",
       "  <tbody>\n",
       "    <tr>\n",
       "      <th>0</th>\n",
       "      <td>4700000</td>\n",
       "      <td>Hartsville-Trousdale County</td>\n",
       "      <td>34980</td>\n",
       "      <td>400</td>\n",
       "      <td>14.4</td>\n",
       "      <td>111.8</td>\n",
       "      <td>97.4</td>\n",
       "      <td>676.39</td>\n",
       "      <td>47</td>\n",
       "    </tr>\n",
       "    <tr>\n",
       "      <th>1</th>\n",
       "      <td>4700240</td>\n",
       "      <td>Adamsville town</td>\n",
       "      <td>99999</td>\n",
       "      <td>999</td>\n",
       "      <td>5.6</td>\n",
       "      <td>1.0</td>\n",
       "      <td>-4.6</td>\n",
       "      <td>-82.14</td>\n",
       "      <td>47</td>\n",
       "    </tr>\n",
       "    <tr>\n",
       "      <th>2</th>\n",
       "      <td>4700440</td>\n",
       "      <td>Alamo town</td>\n",
       "      <td>27180</td>\n",
       "      <td>297</td>\n",
       "      <td>0.2</td>\n",
       "      <td>0.0</td>\n",
       "      <td>-0.2</td>\n",
       "      <td>-100.00</td>\n",
       "      <td>47</td>\n",
       "    </tr>\n",
       "  </tbody>\n",
       "</table>\n",
       "</div>"
      ],
      "text/plain": [
       "SurveyDate    GEOID                        Place   CBSA  CSA  14permits  19permits  permreal   perm% StateFIPS\n",
       "0           4700000  Hartsville-Trousdale County  34980  400       14.4      111.8      97.4  676.39        47\n",
       "1           4700240              Adamsville town  99999  999        5.6        1.0      -4.6  -82.14        47\n",
       "2           4700440                   Alamo town  27180  297        0.2        0.0      -0.2 -100.00        47"
      ]
     },
     "execution_count": 77,
     "metadata": {},
     "output_type": "execute_result"
    }
   ],
   "source": [
    "TN = bp.loc[bp['StateFIPS'] == '47']\n",
    "TN.head(3)"
   ]
  },
  {
   "cell_type": "code",
   "execution_count": 78,
   "id": "e330c5ee",
   "metadata": {},
   "outputs": [],
   "source": [
    "TN = TN.drop(columns = 'StateFIPS')"
   ]
  },
  {
   "cell_type": "code",
   "execution_count": 79,
   "id": "fae3420d",
   "metadata": {},
   "outputs": [],
   "source": [
    "#examine the permitting data\n",
    "TN.to_csv('../data/TNpermitdata.csv', index = False)"
   ]
  },
  {
   "cell_type": "markdown",
   "id": "ad3b3d15",
   "metadata": {},
   "source": [
    "## Join all together"
   ]
  },
  {
   "cell_type": "code",
   "execution_count": 80,
   "id": "0ebf82dd",
   "metadata": {},
   "outputs": [],
   "source": [
    "TN['GEOID'] = TN['GEOID'].astype(str)\n",
    "data_geo['GEOID'] = data_geo['GEOID'].astype(str)"
   ]
  },
  {
   "cell_type": "code",
   "execution_count": 81,
   "id": "1d063e4d",
   "metadata": {},
   "outputs": [],
   "source": [
    "total = pd.merge(data_geo, TN, on = 'GEOID', how = 'inner').reset_index(drop=True)"
   ]
  },
  {
   "cell_type": "code",
   "execution_count": 82,
   "id": "3dcc7bb9",
   "metadata": {},
   "outputs": [
    {
     "data": {
      "text/html": [
       "<div>\n",
       "<style scoped>\n",
       "    .dataframe tbody tr th:only-of-type {\n",
       "        vertical-align: middle;\n",
       "    }\n",
       "\n",
       "    .dataframe tbody tr th {\n",
       "        vertical-align: top;\n",
       "    }\n",
       "\n",
       "    .dataframe thead th {\n",
       "        text-align: right;\n",
       "    }\n",
       "</style>\n",
       "<table border=\"1\" class=\"dataframe\">\n",
       "  <thead>\n",
       "    <tr style=\"text-align: right;\">\n",
       "      <th></th>\n",
       "      <th>GEOID</th>\n",
       "      <th>NAME</th>\n",
       "      <th>NAMELSAD</th>\n",
       "      <th>geometry</th>\n",
       "      <th>SQMILES</th>\n",
       "      <th>StateFIPS</th>\n",
       "      <th>PlaceFIPS</th>\n",
       "      <th>09pop</th>\n",
       "      <th>14pop</th>\n",
       "      <th>19pop</th>\n",
       "      <th>hhsize</th>\n",
       "      <th>drive</th>\n",
       "      <th>ST%</th>\n",
       "      <th>ST</th>\n",
       "      <th>LT%</th>\n",
       "      <th>LT</th>\n",
       "      <th>State</th>\n",
       "      <th>19density</th>\n",
       "      <th>14density</th>\n",
       "      <th>09density</th>\n",
       "      <th>STDensity</th>\n",
       "      <th>ST%Density</th>\n",
       "      <th>LTDensity</th>\n",
       "      <th>LT%Density</th>\n",
       "      <th>Place</th>\n",
       "      <th>CBSA</th>\n",
       "      <th>CSA</th>\n",
       "      <th>14permits</th>\n",
       "      <th>19permits</th>\n",
       "      <th>permreal</th>\n",
       "      <th>perm%</th>\n",
       "    </tr>\n",
       "  </thead>\n",
       "  <tbody>\n",
       "    <tr>\n",
       "      <th>0</th>\n",
       "      <td>4731490</td>\n",
       "      <td>Gruetli-Laager</td>\n",
       "      <td>Gruetli-Laager city</td>\n",
       "      <td>POLYGON ((-85.70419 35.37807, -85.70386 35.377...</td>\n",
       "      <td>12.68</td>\n",
       "      <td>47</td>\n",
       "      <td>31490</td>\n",
       "      <td>2035</td>\n",
       "      <td>1646</td>\n",
       "      <td>2429</td>\n",
       "      <td>3.25</td>\n",
       "      <td>31.3</td>\n",
       "      <td>47.57</td>\n",
       "      <td>783</td>\n",
       "      <td>19.36</td>\n",
       "      <td>394</td>\n",
       "      <td>Tennessee</td>\n",
       "      <td>191.56</td>\n",
       "      <td>129.81</td>\n",
       "      <td>160.49</td>\n",
       "      <td>61.75</td>\n",
       "      <td>47.57</td>\n",
       "      <td>31.07</td>\n",
       "      <td>19.36</td>\n",
       "      <td>Gruetli-Laager</td>\n",
       "      <td>99999</td>\n",
       "      <td>999</td>\n",
       "      <td>0.0</td>\n",
       "      <td>0.0</td>\n",
       "      <td>0.0</td>\n",
       "      <td>NaN</td>\n",
       "    </tr>\n",
       "    <tr>\n",
       "      <th>1</th>\n",
       "      <td>4774880</td>\n",
       "      <td>Tracy City</td>\n",
       "      <td>Tracy City town</td>\n",
       "      <td>POLYGON ((-85.78324 35.25530, -85.78290 35.262...</td>\n",
       "      <td>4.66</td>\n",
       "      <td>47</td>\n",
       "      <td>74880</td>\n",
       "      <td>1655</td>\n",
       "      <td>1697</td>\n",
       "      <td>1561</td>\n",
       "      <td>2.54</td>\n",
       "      <td>26.1</td>\n",
       "      <td>-8.01</td>\n",
       "      <td>-136</td>\n",
       "      <td>-5.68</td>\n",
       "      <td>-94</td>\n",
       "      <td>Tennessee</td>\n",
       "      <td>334.98</td>\n",
       "      <td>364.16</td>\n",
       "      <td>355.15</td>\n",
       "      <td>-29.18</td>\n",
       "      <td>-8.01</td>\n",
       "      <td>-20.17</td>\n",
       "      <td>-5.68</td>\n",
       "      <td>Tracy City town</td>\n",
       "      <td>99999</td>\n",
       "      <td>999</td>\n",
       "      <td>0.2</td>\n",
       "      <td>0.0</td>\n",
       "      <td>-0.2</td>\n",
       "      <td>-100.00</td>\n",
       "    </tr>\n",
       "    <tr>\n",
       "      <th>2</th>\n",
       "      <td>4722180</td>\n",
       "      <td>Dyer</td>\n",
       "      <td>Dyer city</td>\n",
       "      <td>POLYGON ((-89.00927 36.06839, -89.00926 36.069...</td>\n",
       "      <td>2.29</td>\n",
       "      <td>47</td>\n",
       "      <td>22180</td>\n",
       "      <td>2744</td>\n",
       "      <td>2335</td>\n",
       "      <td>2791</td>\n",
       "      <td>2.54</td>\n",
       "      <td>27.9</td>\n",
       "      <td>19.53</td>\n",
       "      <td>456</td>\n",
       "      <td>1.71</td>\n",
       "      <td>47</td>\n",
       "      <td>Tennessee</td>\n",
       "      <td>1218.78</td>\n",
       "      <td>1019.65</td>\n",
       "      <td>1198.25</td>\n",
       "      <td>199.13</td>\n",
       "      <td>19.53</td>\n",
       "      <td>20.53</td>\n",
       "      <td>1.71</td>\n",
       "      <td>Dyer</td>\n",
       "      <td>27180</td>\n",
       "      <td>297</td>\n",
       "      <td>1.8</td>\n",
       "      <td>4.8</td>\n",
       "      <td>3.0</td>\n",
       "      <td>166.67</td>\n",
       "    </tr>\n",
       "    <tr>\n",
       "      <th>3</th>\n",
       "      <td>4769320</td>\n",
       "      <td>Smithville</td>\n",
       "      <td>Smithville city</td>\n",
       "      <td>POLYGON ((-85.85567 35.96583, -85.85408 35.965...</td>\n",
       "      <td>5.85</td>\n",
       "      <td>47</td>\n",
       "      <td>69320</td>\n",
       "      <td>4304</td>\n",
       "      <td>4587</td>\n",
       "      <td>4711</td>\n",
       "      <td>2.76</td>\n",
       "      <td>25.4</td>\n",
       "      <td>2.70</td>\n",
       "      <td>124</td>\n",
       "      <td>9.46</td>\n",
       "      <td>407</td>\n",
       "      <td>Tennessee</td>\n",
       "      <td>805.30</td>\n",
       "      <td>784.10</td>\n",
       "      <td>735.73</td>\n",
       "      <td>21.20</td>\n",
       "      <td>2.70</td>\n",
       "      <td>69.57</td>\n",
       "      <td>9.46</td>\n",
       "      <td>Smithville</td>\n",
       "      <td>99999</td>\n",
       "      <td>999</td>\n",
       "      <td>6.0</td>\n",
       "      <td>20.2</td>\n",
       "      <td>14.2</td>\n",
       "      <td>236.67</td>\n",
       "    </tr>\n",
       "    <tr>\n",
       "      <th>4</th>\n",
       "      <td>4753580</td>\n",
       "      <td>Normandy</td>\n",
       "      <td>Normandy town</td>\n",
       "      <td>POLYGON ((-86.26221 35.45202, -86.26205 35.452...</td>\n",
       "      <td>0.24</td>\n",
       "      <td>47</td>\n",
       "      <td>53580</td>\n",
       "      <td>203</td>\n",
       "      <td>92</td>\n",
       "      <td>145</td>\n",
       "      <td>3.02</td>\n",
       "      <td>18.2</td>\n",
       "      <td>57.61</td>\n",
       "      <td>53</td>\n",
       "      <td>-28.57</td>\n",
       "      <td>-58</td>\n",
       "      <td>Tennessee</td>\n",
       "      <td>604.17</td>\n",
       "      <td>383.33</td>\n",
       "      <td>845.83</td>\n",
       "      <td>220.84</td>\n",
       "      <td>57.61</td>\n",
       "      <td>-241.66</td>\n",
       "      <td>-28.57</td>\n",
       "      <td>Normandy town</td>\n",
       "      <td>99999</td>\n",
       "      <td>999</td>\n",
       "      <td>0.2</td>\n",
       "      <td>0.0</td>\n",
       "      <td>-0.2</td>\n",
       "      <td>-100.00</td>\n",
       "    </tr>\n",
       "  </tbody>\n",
       "</table>\n",
       "</div>"
      ],
      "text/plain": [
       "     GEOID            NAME             NAMELSAD                                           geometry  SQMILES StateFIPS PlaceFIPS  09pop  14pop  \\\n",
       "0  4731490  Gruetli-Laager  Gruetli-Laager city  POLYGON ((-85.70419 35.37807, -85.70386 35.377...    12.68        47     31490   2035   1646   \n",
       "1  4774880      Tracy City      Tracy City town  POLYGON ((-85.78324 35.25530, -85.78290 35.262...     4.66        47     74880   1655   1697   \n",
       "2  4722180            Dyer            Dyer city  POLYGON ((-89.00927 36.06839, -89.00926 36.069...     2.29        47     22180   2744   2335   \n",
       "3  4769320      Smithville      Smithville city  POLYGON ((-85.85567 35.96583, -85.85408 35.965...     5.85        47     69320   4304   4587   \n",
       "4  4753580        Normandy        Normandy town  POLYGON ((-86.26221 35.45202, -86.26205 35.452...     0.24        47     53580    203     92   \n",
       "\n",
       "   19pop  hhsize  drive    ST%   ST    LT%   LT       State  19density  14density  09density  STDensity  ST%Density  LTDensity  LT%Density  \\\n",
       "0   2429    3.25   31.3  47.57  783  19.36  394   Tennessee     191.56     129.81     160.49      61.75       47.57      31.07       19.36   \n",
       "1   1561    2.54   26.1  -8.01 -136  -5.68  -94   Tennessee     334.98     364.16     355.15     -29.18       -8.01     -20.17       -5.68   \n",
       "2   2791    2.54   27.9  19.53  456   1.71   47   Tennessee    1218.78    1019.65    1198.25     199.13       19.53      20.53        1.71   \n",
       "3   4711    2.76   25.4   2.70  124   9.46  407   Tennessee     805.30     784.10     735.73      21.20        2.70      69.57        9.46   \n",
       "4    145    3.02   18.2  57.61   53 -28.57  -58   Tennessee     604.17     383.33     845.83     220.84       57.61    -241.66      -28.57   \n",
       "\n",
       "             Place   CBSA  CSA  14permits  19permits  permreal   perm%  \n",
       "0   Gruetli-Laager  99999  999        0.0        0.0       0.0     NaN  \n",
       "1  Tracy City town  99999  999        0.2        0.0      -0.2 -100.00  \n",
       "2             Dyer  27180  297        1.8        4.8       3.0  166.67  \n",
       "3       Smithville  99999  999        6.0       20.2      14.2  236.67  \n",
       "4    Normandy town  99999  999        0.2        0.0      -0.2 -100.00  "
      ]
     },
     "execution_count": 82,
     "metadata": {},
     "output_type": "execute_result"
    }
   ],
   "source": [
    "total.head()"
   ]
  },
  {
   "cell_type": "code",
   "execution_count": 83,
   "id": "049a7db7",
   "metadata": {},
   "outputs": [
    {
     "name": "stdout",
     "output_type": "stream",
     "text": [
      "<class 'geopandas.geodataframe.GeoDataFrame'>\n",
      "RangeIndex: 280 entries, 0 to 279\n",
      "Data columns (total 31 columns):\n",
      " #   Column      Non-Null Count  Dtype   \n",
      "---  ------      --------------  -----   \n",
      " 0   GEOID       280 non-null    object  \n",
      " 1   NAME        280 non-null    object  \n",
      " 2   NAMELSAD    280 non-null    object  \n",
      " 3   geometry    280 non-null    geometry\n",
      " 4   SQMILES     280 non-null    float64 \n",
      " 5   StateFIPS   280 non-null    object  \n",
      " 6   PlaceFIPS   280 non-null    object  \n",
      " 7   09pop       280 non-null    int32   \n",
      " 8   14pop       280 non-null    int32   \n",
      " 9   19pop       280 non-null    int32   \n",
      " 10  hhsize      280 non-null    float64 \n",
      " 11  drive       280 non-null    float64 \n",
      " 12  ST%         280 non-null    float64 \n",
      " 13  ST          280 non-null    int32   \n",
      " 14  LT%         280 non-null    float64 \n",
      " 15  LT          280 non-null    int32   \n",
      " 16  State       280 non-null    object  \n",
      " 17  19density   280 non-null    float64 \n",
      " 18  14density   280 non-null    float64 \n",
      " 19  09density   280 non-null    float64 \n",
      " 20  STDensity   280 non-null    float64 \n",
      " 21  ST%Density  280 non-null    float64 \n",
      " 22  LTDensity   280 non-null    float64 \n",
      " 23  LT%Density  280 non-null    float64 \n",
      " 24  Place       280 non-null    object  \n",
      " 25  CBSA        280 non-null    object  \n",
      " 26  CSA         280 non-null    object  \n",
      " 27  14permits   280 non-null    float64 \n",
      " 28  19permits   280 non-null    float64 \n",
      " 29  permreal    280 non-null    float64 \n",
      " 30  perm%       235 non-null    float64 \n",
      "dtypes: float64(16), geometry(1), int32(5), object(9)\n",
      "memory usage: 62.5+ KB\n"
     ]
    }
   ],
   "source": [
    "total.info()"
   ]
  },
  {
   "cell_type": "markdown",
   "id": "a3e56ca4",
   "metadata": {},
   "source": [
    "## Remove outliers and set some parameters before the cluster analysis. \n",
    "\n",
    "Cluster analysis performs at its best when extreme outliers are removed so that the process can identify nuanced differences in a more similar group of data. This can be though of as creating a group via enforcing variable parameters in which we would be interested in seeing peers instead of using the algorithm to create said group. In order to be relevant, Coopertown's cluster would need to be identified out of a group of communities that are somewhat similar to Coopertown already so that the algorithm can find the closest peers within that group. The following parameters are enforced:  \n",
    "\n",
    "+ hhsize - cut out any less than 1 (pure nonsensical outliers)\n",
    "+ population - cut out any less than 1,000 or more than 10,000  \n",
    "+ population change - cut out any with no growth  "
   ]
  },
  {
   "cell_type": "code",
   "execution_count": 89,
   "id": "822d1ad2",
   "metadata": {},
   "outputs": [
    {
     "data": {
      "text/html": [
       "<div>\n",
       "<style scoped>\n",
       "    .dataframe tbody tr th:only-of-type {\n",
       "        vertical-align: middle;\n",
       "    }\n",
       "\n",
       "    .dataframe tbody tr th {\n",
       "        vertical-align: top;\n",
       "    }\n",
       "\n",
       "    .dataframe thead th {\n",
       "        text-align: right;\n",
       "    }\n",
       "</style>\n",
       "<table border=\"1\" class=\"dataframe\">\n",
       "  <thead>\n",
       "    <tr style=\"text-align: right;\">\n",
       "      <th></th>\n",
       "      <th>GEOID</th>\n",
       "      <th>NAME</th>\n",
       "      <th>NAMELSAD</th>\n",
       "      <th>geometry</th>\n",
       "      <th>SQMILES</th>\n",
       "      <th>StateFIPS</th>\n",
       "      <th>PlaceFIPS</th>\n",
       "      <th>09pop</th>\n",
       "      <th>14pop</th>\n",
       "      <th>19pop</th>\n",
       "      <th>hhsize</th>\n",
       "      <th>drive</th>\n",
       "      <th>ST%</th>\n",
       "      <th>ST</th>\n",
       "      <th>LT%</th>\n",
       "      <th>LT</th>\n",
       "      <th>State</th>\n",
       "      <th>19density</th>\n",
       "      <th>14density</th>\n",
       "      <th>09density</th>\n",
       "      <th>STDensity</th>\n",
       "      <th>ST%Density</th>\n",
       "      <th>LTDensity</th>\n",
       "      <th>LT%Density</th>\n",
       "      <th>Place</th>\n",
       "      <th>CBSA</th>\n",
       "      <th>CSA</th>\n",
       "      <th>14permits</th>\n",
       "      <th>19permits</th>\n",
       "      <th>permreal</th>\n",
       "      <th>perm%</th>\n",
       "    </tr>\n",
       "  </thead>\n",
       "  <tbody>\n",
       "    <tr>\n",
       "      <th>109</th>\n",
       "      <td>4716980</td>\n",
       "      <td>Coopertown</td>\n",
       "      <td>Coopertown town</td>\n",
       "      <td>POLYGON ((-87.03813 36.40682, -87.03807 36.407...</td>\n",
       "      <td>31.58</td>\n",
       "      <td>47</td>\n",
       "      <td>16980</td>\n",
       "      <td>3342</td>\n",
       "      <td>4321</td>\n",
       "      <td>4496</td>\n",
       "      <td>2.79</td>\n",
       "      <td>33.8</td>\n",
       "      <td>4.05</td>\n",
       "      <td>175</td>\n",
       "      <td>34.53</td>\n",
       "      <td>1154</td>\n",
       "      <td>Tennessee</td>\n",
       "      <td>142.37</td>\n",
       "      <td>136.83</td>\n",
       "      <td>105.83</td>\n",
       "      <td>5.54</td>\n",
       "      <td>4.05</td>\n",
       "      <td>36.54</td>\n",
       "      <td>34.53</td>\n",
       "      <td>Coopertown town</td>\n",
       "      <td>34980</td>\n",
       "      <td>400</td>\n",
       "      <td>6.0</td>\n",
       "      <td>21.8</td>\n",
       "      <td>15.8</td>\n",
       "      <td>263.33</td>\n",
       "    </tr>\n",
       "  </tbody>\n",
       "</table>\n",
       "</div>"
      ],
      "text/plain": [
       "       GEOID        NAME         NAMELSAD                                           geometry  SQMILES StateFIPS PlaceFIPS  09pop  14pop  19pop  \\\n",
       "109  4716980  Coopertown  Coopertown town  POLYGON ((-87.03813 36.40682, -87.03807 36.407...    31.58        47     16980   3342   4321   4496   \n",
       "\n",
       "     hhsize  drive   ST%   ST    LT%    LT       State  19density  14density  09density  STDensity  ST%Density  LTDensity  LT%Density  \\\n",
       "109    2.79   33.8  4.05  175  34.53  1154   Tennessee     142.37     136.83     105.83       5.54        4.05      36.54       34.53   \n",
       "\n",
       "               Place   CBSA  CSA  14permits  19permits  permreal   perm%  \n",
       "109  Coopertown town  34980  400        6.0       21.8      15.8  263.33  "
      ]
     },
     "execution_count": 89,
     "metadata": {},
     "output_type": "execute_result"
    }
   ],
   "source": [
    "CT = total.loc[total['GEOID'] == '4716980']\n",
    "CT"
   ]
  },
  {
   "cell_type": "code",
   "execution_count": 90,
   "id": "80462a00",
   "metadata": {},
   "outputs": [],
   "source": [
    "df = total.reset_index(drop=True)"
   ]
  },
  {
   "cell_type": "code",
   "execution_count": 91,
   "id": "75546ef2",
   "metadata": {},
   "outputs": [],
   "source": [
    "#drop the geos with hh size less than 1\n",
    "df = df.loc[df['hhsize'] > 1]"
   ]
  },
  {
   "cell_type": "code",
   "execution_count": 92,
   "id": "7abebab2",
   "metadata": {},
   "outputs": [],
   "source": [
    "#drop the geos with currentpop less than 100 and greater than 10,000\n",
    "df = df.loc[df['19pop'] > 100]\n",
    "df = df.loc[df['19pop'] < 15000]"
   ]
  },
  {
   "cell_type": "code",
   "execution_count": 93,
   "id": "debe1492",
   "metadata": {},
   "outputs": [],
   "source": [
    "#drop the geos without positive growth\n",
    "df = df.loc[df['ST%'] > 0]\n",
    "df = df.loc[df['LT%'] > 0]"
   ]
  },
  {
   "cell_type": "code",
   "execution_count": 94,
   "id": "3a8fbeec",
   "metadata": {},
   "outputs": [],
   "source": [
    "# #BOTTOM SORT\n",
    "# df.sort_values('hhsize', ascending = True).head()"
   ]
  },
  {
   "cell_type": "code",
   "execution_count": 95,
   "id": "32709137",
   "metadata": {},
   "outputs": [],
   "source": [
    "# #TOP SORT\n",
    "# df.sort_values('drive', ascending = False).head()"
   ]
  },
  {
   "cell_type": "markdown",
   "id": "f8cce543",
   "metadata": {},
   "source": [
    "# Scatterplots: Examining Data Relationships"
   ]
  },
  {
   "cell_type": "code",
   "execution_count": 97,
   "id": "c5effc4d",
   "metadata": {},
   "outputs": [
    {
     "data": {
      "text/plain": [
       "Text(0.5, 1.0, '15 Year % Population Growth vs % Pop Density Growth')"
      ]
     },
     "execution_count": 97,
     "metadata": {},
     "output_type": "execute_result"
    },
    {
     "data": {
      "image/png": "[encoded data removed]",
      "text/plain": [
       "<Figure size 1440x720 with 9 Axes>"
      ]
     },
     "metadata": {
      "needs_background": "light"
     },
     "output_type": "display_data"
    }
   ],
   "source": [
    "#long term just population\n",
    "fig, axs = plt.subplots(3, 3, figsize=(20,10))\n",
    "axs[0,0].scatter(df['09pop'], df['19pop'], color='saddlebrown', marker = '2')\n",
    "axs[0,0].set_title(\"05-09 vs 15-19 Population\", fontsize = 9)\n",
    "axs[0,1].scatter(df['19pop'], df['19density'], color='saddlebrown', marker = '2')\n",
    "axs[0,1].set_title(\"15-19 Population vs Population Density\", fontsize = 9)\n",
    "axs[0,2].scatter(df['19pop'], df['LT'], color='saddlebrown', marker = '2')\n",
    "axs[0,2].set_title(\"15-19 Population vs 15 Year Real Population Growth\", fontsize = 9)\n",
    "axs[1,0].scatter(df['19pop'], df['LT%'], color='saddlebrown', marker = '2')\n",
    "axs[1,0].set_title(\"15-19 Population vs 15 Year % Growth\", fontsize = 9)\n",
    "axs[1,1].scatter(df['LT%Density'], df['LTDensity'], color='saddlebrown', marker = '2')\n",
    "axs[1,1].set_title(\"15 Year % Pop Density Growth vs Real Pop Density Growth\", fontsize = 9)\n",
    "axs[1,2].scatter(df['19pop'], df['LTDensity'], color='saddlebrown', marker = '2')\n",
    "axs[1,2].set_title(\"15-19 Population v 15 Year Real Pop Density Growth\", fontsize = 9)\n",
    "axs[2,0].scatter(df['19pop'], df['LT%Density'], color='saddlebrown', marker = '2')\n",
    "axs[2,0].set_title(\"15-19 Population v 15 Year % Pop Density Growth\", fontsize = 9)\n",
    "axs[2,1].scatter(df['LT'], df['LTDensity'], color='saddlebrown', marker = '2')\n",
    "axs[2,1].set_title(\"15 Year Real Population Growth vs Pop Density Growth\", fontsize = 9)\n",
    "axs[2,2].scatter(df['LT%'], df['LT%Density'], color='saddlebrown', marker = '2')\n",
    "axs[2,2].set_title(\"15 Year % Population Growth vs % Pop Density Growth\", fontsize = 9)"
   ]
  },
  {
   "cell_type": "code",
   "execution_count": 98,
   "id": "2585d88e",
   "metadata": {},
   "outputs": [
    {
     "data": {
      "text/plain": [
       "Text(0.5, 1.0, 'Drive LTD%')"
      ]
     },
     "execution_count": 98,
     "metadata": {},
     "output_type": "execute_result"
    },
    {
     "data": {
      "image/png": "[encoded data removed]",
      "text/plain": [
       "<Figure size 1440x720 with 9 Axes>"
      ]
     },
     "metadata": {
      "needs_background": "light"
     },
     "output_type": "display_data"
    }
   ],
   "source": [
    "#population with other measures\n",
    "fig, axs = plt.subplots(3, 3, figsize=(20,10))\n",
    "axs[0,0].scatter(df['19pop'], df['drive'], color='saddlebrown', marker = '2')\n",
    "axs[0,0].set_title(\"CurrentPop and Drive\", fontsize = 9)\n",
    "axs[0,1].scatter(df['19pop'], df['hhsize'], color='saddlebrown', marker = '2')\n",
    "axs[0,1].set_title(\"CurrentPop and HHSize\", fontsize = 9)\n",
    "axs[0,2].scatter(df['hhsize'], df['LT'], color='saddlebrown', marker = '2')\n",
    "axs[0,2].set_title(\"HHSize and LT Growth\", fontsize = 9)\n",
    "axs[1,0].scatter(df['hhsize'], df['ST'], color='saddlebrown', marker = '2')\n",
    "axs[1,0].set_title(\"HHSize and ST Growth\", fontsize = 9)\n",
    "axs[1,1].scatter(df['hhsize'], df['LT%'], color='saddlebrown', marker = '2')\n",
    "axs[1,1].set_title(\"HHS and LT%\", fontsize = 9)\n",
    "axs[1,2].scatter(df['hhsize'], df['ST%'], color='saddlebrown', marker = '2')\n",
    "axs[1,2].set_title(\"HHSize ST%\", fontsize = 9)\n",
    "axs[2,0].scatter(df['drive'], df['LT'], color='saddlebrown', marker = '2')\n",
    "axs[2,0].set_title(\"Drive LT\", fontsize = 9)\n",
    "axs[2,1].scatter(df['drive'], df['ST'], color='saddlebrown', marker = '2')\n",
    "axs[2,1].set_title(\"Drive ST\", fontsize = 9)\n",
    "axs[2,2].scatter(df['drive'], df['LT%'], color='saddlebrown', marker = '2')\n",
    "axs[2,2].set_title(\"Drive LTD%\", fontsize = 9)"
   ]
  },
  {
   "cell_type": "code",
   "execution_count": 105,
   "id": "2d5d6de7",
   "metadata": {},
   "outputs": [
    {
     "data": {
      "text/plain": [
       "Text(0.5, 1.0, 'ST%Growth STDensity%Growth')"
      ]
     },
     "execution_count": 105,
     "metadata": {},
     "output_type": "execute_result"
    },
    {
     "data": {
      "image/png": "[encoded data removed]",
      "text/plain": [
       "<Figure size 1440x720 with 9 Axes>"
      ]
     },
     "metadata": {
      "needs_background": "light"
     },
     "output_type": "display_data"
    }
   ],
   "source": [
    "#short term\n",
    "fig, axs = plt.subplots(3, 3, figsize=(20,10))\n",
    "axs[0,0].scatter(df['14pop'], df['19pop'], color='saddlebrown', marker = '2')\n",
    "axs[0,0].set_title(\"14 and 19 Pop\", fontsize = 9)\n",
    "axs[0,1].scatter(df['19pop'], df['19density'], color='saddlebrown', marker = '2')\n",
    "axs[0,1].set_title(\"CurrentPop and PopDensity\", fontsize = 9)\n",
    "axs[0,2].scatter(df['19pop'], df['ST'], color='saddlebrown', marker = '2')\n",
    "axs[0,2].set_title(\"CurrentPop ST Growth\", fontsize = 9)\n",
    "axs[1,0].scatter(df['19pop'], df['ST%'], color='saddlebrown', marker = '2')\n",
    "axs[1,0].set_title(\"CurrentPop ST% Growth\", fontsize = 9)\n",
    "axs[1,1].scatter(df['ST%Density'], df['STDensity'], color='saddlebrown', marker = '2')\n",
    "axs[1,1].set_title(\"ST%Density and STDensity\", fontsize = 9)\n",
    "axs[1,2].scatter(df['19pop'], df['STDensity'], color='saddlebrown', marker = '2')\n",
    "axs[1,2].set_title(\"CurrentPop STDensityChange\", fontsize = 9)\n",
    "axs[2,0].scatter(df['19pop'], df['ST%Density'], color='saddlebrown', marker = '2')\n",
    "axs[2,0].set_title(\"CurrentPop STDensity%Change\", fontsize = 9)\n",
    "axs[2,1].scatter(df['ST'], df['STDensity'], color='saddlebrown', marker = '2')\n",
    "axs[2,1].set_title(\"STGrowth STDensityGrowth\", fontsize = 9)\n",
    "axs[2,2].scatter(df['ST%'], df['ST%Density'], color='saddlebrown', marker = '2')\n",
    "axs[2,2].set_title(\"ST%Growth STDensity%Growth\", fontsize = 9)"
   ]
  },
  {
   "cell_type": "code",
   "execution_count": 286,
   "id": "98198bb0",
   "metadata": {},
   "outputs": [
    {
     "data": {
      "text/plain": [
       "Text(0.5, 1.0, 'Drive and % Change Permits')"
      ]
     },
     "execution_count": 286,
     "metadata": {},
     "output_type": "execute_result"
    },
    {
     "data": {
      "image/png": "[encoded data removed]",
      "text/plain": [
       "<Figure size 1440x720 with 9 Axes>"
      ]
     },
     "metadata": {
      "needs_background": "light"
     },
     "output_type": "display_data"
    }
   ],
   "source": [
    "#permitting\n",
    "fig, axs = plt.subplots(3, 3, figsize=(20,10))\n",
    "axs[0,0].scatter(df['19pop'], df['14permits'], color='saddlebrown', marker = '2')\n",
    "axs[0,0].set_title(\"CurrentPop and '10-'14 Permits\", fontsize = 9, font = 'helvetica')\n",
    "axs[0,1].scatter(df['19pop'], df['19permits'], color='saddlebrown', marker = '2')\n",
    "axs[0,1].set_title(\"CurrentPop and '15-'19 Permits\", fontsize = 9, font = 'helvetica')\n",
    "axs[0,2].scatter(df['hhsize'], df['19permits'], color='saddlebrown', marker = '2')\n",
    "axs[0,2].set_title(\"HHSize and '15-'19 Permits\", fontsize = 9, font = 'helvetica')\n",
    "axs[1,0].scatter(df['hhsize'], df['14permits'], color='saddlebrown', marker = '2')\n",
    "axs[1,0].set_title(\"HHSize and '10-'14 Permits\", fontsize = 9, font = 'helvetica')\n",
    "axs[1,1].scatter(df['permreal'], df['LT%'], color='saddlebrown', marker = '2')\n",
    "axs[1,1].set_title(\"Real Change Permits and LT%\", fontsize = 9, font = 'helvetica')\n",
    "axs[1,2].scatter(df['permreal'], df['ST%'], color='saddlebrown', marker = '2')\n",
    "axs[1,2].set_title(\"Real Change Permits and ST%\", fontsize = 9, font = 'helvetica')\n",
    "axs[2,0].scatter(df['perm%'], df['LT'], color='saddlebrown', marker = '2')\n",
    "axs[2,0].set_title(\"% Change Permits and LT Real\", fontsize = 9, font = 'helvetica')\n",
    "axs[2,1].scatter(df['perm%'], df['ST'], color='saddlebrown', marker = '2')\n",
    "axs[2,1].set_title(\"% Change Permits and ST Real\", fontsize = 9, font = 'helvetica')\n",
    "axs[2,2].scatter(df['drive'], df['perm%'], color='saddlebrown', marker = '2')\n",
    "axs[2,2].set_title(\"Drive and % Change Permits\", fontsize = 9, font = 'helvetica')"
   ]
  },
  {
   "cell_type": "code",
   "execution_count": 100,
   "id": "dc2a29a8",
   "metadata": {},
   "outputs": [],
   "source": [
    "df = df.reset_index(drop=True)"
   ]
  },
  {
   "cell_type": "code",
   "execution_count": 101,
   "id": "df16b78e",
   "metadata": {},
   "outputs": [
    {
     "name": "stdout",
     "output_type": "stream",
     "text": [
      "<class 'geopandas.geodataframe.GeoDataFrame'>\n",
      "RangeIndex: 105 entries, 0 to 104\n",
      "Data columns (total 31 columns):\n",
      " #   Column      Non-Null Count  Dtype   \n",
      "---  ------      --------------  -----   \n",
      " 0   GEOID       105 non-null    object  \n",
      " 1   NAME        105 non-null    object  \n",
      " 2   NAMELSAD    105 non-null    object  \n",
      " 3   geometry    105 non-null    geometry\n",
      " 4   SQMILES     105 non-null    float64 \n",
      " 5   StateFIPS   105 non-null    object  \n",
      " 6   PlaceFIPS   105 non-null    object  \n",
      " 7   09pop       105 non-null    int32   \n",
      " 8   14pop       105 non-null    int32   \n",
      " 9   19pop       105 non-null    int32   \n",
      " 10  hhsize      105 non-null    float64 \n",
      " 11  drive       105 non-null    float64 \n",
      " 12  ST%         105 non-null    float64 \n",
      " 13  ST          105 non-null    int32   \n",
      " 14  LT%         105 non-null    float64 \n",
      " 15  LT          105 non-null    int32   \n",
      " 16  State       105 non-null    object  \n",
      " 17  19density   105 non-null    float64 \n",
      " 18  14density   105 non-null    float64 \n",
      " 19  09density   105 non-null    float64 \n",
      " 20  STDensity   105 non-null    float64 \n",
      " 21  ST%Density  105 non-null    float64 \n",
      " 22  LTDensity   105 non-null    float64 \n",
      " 23  LT%Density  105 non-null    float64 \n",
      " 24  Place       105 non-null    object  \n",
      " 25  CBSA        105 non-null    object  \n",
      " 26  CSA         105 non-null    object  \n",
      " 27  14permits   105 non-null    float64 \n",
      " 28  19permits   105 non-null    float64 \n",
      " 29  permreal    105 non-null    float64 \n",
      " 30  perm%       87 non-null     float64 \n",
      "dtypes: float64(16), geometry(1), int32(5), object(9)\n",
      "memory usage: 23.5+ KB\n"
     ]
    }
   ],
   "source": [
    "df.info()"
   ]
  },
  {
   "cell_type": "code",
   "execution_count": 103,
   "id": "7c18e3b0",
   "metadata": {},
   "outputs": [],
   "source": [
    "df.to_file('../data/geo/TN.shp')"
   ]
  },
  {
   "cell_type": "markdown",
   "id": "2ca808c1",
   "metadata": {},
   "source": [
    "Now we finish with an index-ordered dataframe with multiple numeric columns containing no null or zero values, perfect for scikit learn and its k means clustering algorithms."
   ]
  },
  {
   "cell_type": "code",
   "execution_count": null,
   "id": "3c6741c0",
   "metadata": {},
   "outputs": [],
   "source": []
  }
 ],
 "metadata": {
  "kernelspec": {
   "display_name": "Python 3 (ipykernel)",
   "language": "python",
   "name": "python3"
  },
  "language_info": {
   "codemirror_mode": {
    "name": "ipython",
    "version": 3
   },
   "file_extension": ".py",
   "mimetype": "text/x-python",
   "name": "python",
   "nbconvert_exporter": "python",
   "pygments_lexer": "ipython3",
   "version": "3.8.5"
  }
 },
 "nbformat": 4,
 "nbformat_minor": 5
}
