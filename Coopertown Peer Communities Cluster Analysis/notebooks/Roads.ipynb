{
 "cells": [
  {
   "cell_type": "code",
   "execution_count": 1,
   "id": "91bb8bfd",
   "metadata": {},
   "outputs": [],
   "source": [
    "import pandas as pd\n",
    "import geopandas as gpd\n",
    "import numpy as np\n",
    "import requests\n",
    "import io\n",
    "import matplotlib.pyplot as plt\n",
    "%matplotlib inline\n",
    "pd.set_option('display.max_columns', None)\n",
    "pd.set_option('display.max_rows', None)\n",
    "pd.set_option('display.width', 150)"
   ]
  },
  {
   "cell_type": "code",
   "execution_count": 2,
   "id": "196e3524",
   "metadata": {},
   "outputs": [
    {
     "name": "stdout",
     "output_type": "stream",
     "text": [
      "Your geographic file is ready.\n"
     ]
    }
   ],
   "source": [
    "url= 'https://www2.census.gov/geo/tiger/TIGER2019/ROADS/tl_2019_08045_roads.zip'\n",
    "geo = gpd.read_file(url)\n",
    "print('Your geographic file is ready.')"
   ]
  },
  {
   "cell_type": "code",
   "execution_count": 3,
   "id": "c21e903d",
   "metadata": {},
   "outputs": [
    {
     "data": {
      "text/html": [
       "<div>\n",
       "<style scoped>\n",
       "    .dataframe tbody tr th:only-of-type {\n",
       "        vertical-align: middle;\n",
       "    }\n",
       "\n",
       "    .dataframe tbody tr th {\n",
       "        vertical-align: top;\n",
       "    }\n",
       "\n",
       "    .dataframe thead th {\n",
       "        text-align: right;\n",
       "    }\n",
       "</style>\n",
       "<table border=\"1\" class=\"dataframe\">\n",
       "  <thead>\n",
       "    <tr style=\"text-align: right;\">\n",
       "      <th></th>\n",
       "      <th>LINEARID</th>\n",
       "      <th>FULLNAME</th>\n",
       "      <th>RTTYP</th>\n",
       "      <th>MTFCC</th>\n",
       "      <th>geometry</th>\n",
       "    </tr>\n",
       "  </thead>\n",
       "  <tbody>\n",
       "    <tr>\n",
       "      <th>0</th>\n",
       "      <td>1103690373212</td>\n",
       "      <td>Crystal Brg Lp</td>\n",
       "      <td>M</td>\n",
       "      <td>S1740</td>\n",
       "      <td>LINESTRING (-107.22001 39.39261, -107.21999 39...</td>\n",
       "    </tr>\n",
       "    <tr>\n",
       "      <th>1</th>\n",
       "      <td>11013778631993</td>\n",
       "      <td>State Hwy 13 Byp</td>\n",
       "      <td>S</td>\n",
       "      <td>S1200</td>\n",
       "      <td>LINESTRING (-107.78319 39.54789, -107.78413 39...</td>\n",
       "    </tr>\n",
       "    <tr>\n",
       "      <th>2</th>\n",
       "      <td>1103690954201</td>\n",
       "      <td>Old Midland Spr</td>\n",
       "      <td>M</td>\n",
       "      <td>S1400</td>\n",
       "      <td>LINESTRING (-107.31771 39.43853, -107.31787 39...</td>\n",
       "    </tr>\n",
       "    <tr>\n",
       "      <th>3</th>\n",
       "      <td>1103823092216</td>\n",
       "      <td>Silver Spr</td>\n",
       "      <td>M</td>\n",
       "      <td>S1400</td>\n",
       "      <td>LINESTRING (-107.64205 39.54635, -107.64351 39...</td>\n",
       "    </tr>\n",
       "    <tr>\n",
       "      <th>4</th>\n",
       "      <td>110508610056</td>\n",
       "      <td>Old Native Ln</td>\n",
       "      <td>M</td>\n",
       "      <td>S1400</td>\n",
       "      <td>LINESTRING (-107.28790 39.47365, -107.28792 39...</td>\n",
       "    </tr>\n",
       "  </tbody>\n",
       "</table>\n",
       "</div>"
      ],
      "text/plain": [
       "         LINEARID          FULLNAME RTTYP  MTFCC                                           geometry\n",
       "0   1103690373212    Crystal Brg Lp     M  S1740  LINESTRING (-107.22001 39.39261, -107.21999 39...\n",
       "1  11013778631993  State Hwy 13 Byp     S  S1200  LINESTRING (-107.78319 39.54789, -107.78413 39...\n",
       "2   1103690954201   Old Midland Spr     M  S1400  LINESTRING (-107.31771 39.43853, -107.31787 39...\n",
       "3   1103823092216        Silver Spr     M  S1400  LINESTRING (-107.64205 39.54635, -107.64351 39...\n",
       "4    110508610056     Old Native Ln     M  S1400  LINESTRING (-107.28790 39.47365, -107.28792 39..."
      ]
     },
     "execution_count": 3,
     "metadata": {},
     "output_type": "execute_result"
    }
   ],
   "source": [
    "geo.head()"
   ]
  },
  {
   "cell_type": "code",
   "execution_count": null,
   "id": "95da5018",
   "metadata": {},
   "outputs": [],
   "source": []
  }
 ],
 "metadata": {
  "kernelspec": {
   "display_name": "Python 3 (ipykernel)",
   "language": "python",
   "name": "python3"
  },
  "language_info": {
   "codemirror_mode": {
    "name": "ipython",
    "version": 3
   },
   "file_extension": ".py",
   "mimetype": "text/x-python",
   "name": "python",
   "nbconvert_exporter": "python",
   "pygments_lexer": "ipython3",
   "version": "3.8.5"
  }
 },
 "nbformat": 4,
 "nbformat_minor": 5
}
