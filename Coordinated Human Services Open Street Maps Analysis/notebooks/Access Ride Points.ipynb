{
 "cells": [
  {
   "cell_type": "code",
   "execution_count": 3,
   "id": "d4299dca",
   "metadata": {},
   "outputs": [],
   "source": [
    "import osmnx as ox\n",
    "import geopandas as gpd\n",
    "import pandas as pd\n",
    "import matplotlib.pyplot as plt\n",
    "import numpy as np"
   ]
  },
  {
   "cell_type": "code",
   "execution_count": 4,
   "id": "be5b204c",
   "metadata": {},
   "outputs": [
    {
     "name": "stdout",
     "output_type": "stream",
     "text": [
      "Collecting pipwin\n",
      "  Downloading pipwin-0.5.2.tar.gz (7.9 kB)\n",
      "  Preparing metadata (setup.py): started\n",
      "  Preparing metadata (setup.py): finished with status 'done'\n",
      "Collecting docopt\n",
      "  Downloading docopt-0.6.2.tar.gz (25 kB)\n",
      "  Preparing metadata (setup.py): started\n",
      "  Preparing metadata (setup.py): finished with status 'done'\n",
      "Requirement already satisfied: requests in c:\\users\\jmccall\\anaconda3\\envs\\openstreets\\lib\\site-packages (from pipwin) (2.29.0)\n",
      "Collecting pyprind\n",
      "  Downloading PyPrind-2.11.3-py2.py3-none-any.whl (8.4 kB)\n",
      "Requirement already satisfied: six in c:\\users\\jmccall\\anaconda3\\envs\\openstreets\\lib\\site-packages (from pipwin) (1.16.0)\n",
      "Requirement already satisfied: beautifulsoup4>=4.9.0 in c:\\users\\jmccall\\anaconda3\\envs\\openstreets\\lib\\site-packages (from pipwin) (4.12.2)\n",
      "Collecting js2py\n",
      "  Downloading Js2Py-0.74-py3-none-any.whl (1.0 MB)\n",
      "     ---------------------------------------- 0.0/1.0 MB ? eta -:--:--\n",
      "     -------------- ------------------------- 0.4/1.0 MB 7.6 MB/s eta 0:00:01\n",
      "     ------------------------------ --------- 0.8/1.0 MB 8.2 MB/s eta 0:00:01\n",
      "     ---------------------------------------  1.0/1.0 MB 8.1 MB/s eta 0:00:01\n",
      "     ---------------------------------------- 1.0/1.0 MB 7.3 MB/s eta 0:00:00\n",
      "Requirement already satisfied: packaging in c:\\users\\jmccall\\anaconda3\\envs\\openstreets\\lib\\site-packages (from pipwin) (23.1)\n",
      "Collecting pySmartDL>=1.3.1\n",
      "  Downloading pySmartDL-1.3.4-py3-none-any.whl (20 kB)\n",
      "Requirement already satisfied: soupsieve>1.2 in c:\\users\\jmccall\\anaconda3\\envs\\openstreets\\lib\\site-packages (from beautifulsoup4>=4.9.0->pipwin) (2.4.1)\n",
      "Collecting tzlocal>=1.2\n",
      "  Downloading tzlocal-4.3-py3-none-any.whl (20 kB)\n",
      "Collecting pyjsparser>=2.5.1\n",
      "  Downloading pyjsparser-2.7.1.tar.gz (24 kB)\n",
      "  Preparing metadata (setup.py): started\n",
      "  Preparing metadata (setup.py): finished with status 'done'\n",
      "Requirement already satisfied: certifi>=2017.4.17 in c:\\users\\jmccall\\anaconda3\\envs\\openstreets\\lib\\site-packages (from requests->pipwin) (2022.12.7)\n",
      "Requirement already satisfied: charset-normalizer<4,>=2 in c:\\users\\jmccall\\anaconda3\\envs\\openstreets\\lib\\site-packages (from requests->pipwin) (3.1.0)\n",
      "Requirement already satisfied: idna<4,>=2.5 in c:\\users\\jmccall\\anaconda3\\envs\\openstreets\\lib\\site-packages (from requests->pipwin) (3.4)\n",
      "Requirement already satisfied: urllib3<1.27,>=1.21.1 in c:\\users\\jmccall\\anaconda3\\envs\\openstreets\\lib\\site-packages (from requests->pipwin) (1.26.15)\n",
      "Collecting backports.zoneinfo\n",
      "  Using cached backports.zoneinfo-0.2.1-cp38-cp38-win_amd64.whl (38 kB)\n",
      "Collecting pytz-deprecation-shim\n",
      "  Using cached pytz_deprecation_shim-0.1.0.post0-py2.py3-none-any.whl (15 kB)\n",
      "Requirement already satisfied: tzdata in c:\\users\\jmccall\\anaconda3\\envs\\openstreets\\lib\\site-packages (from tzlocal>=1.2->js2py->pipwin) (2023.3)\n",
      "Building wheels for collected packages: pipwin, docopt, pyjsparser\n",
      "  Building wheel for pipwin (setup.py): started\n",
      "  Building wheel for pipwin (setup.py): finished with status 'done'\n",
      "  Created wheel for pipwin: filename=pipwin-0.5.2-py2.py3-none-any.whl size=8798 sha256=2af19896366f225b6b4e11f5ee144e766be76e788aa7c29b4a3f731ed7aa9e8e\n",
      "  Stored in directory: c:\\users\\jmccall\\appdata\\local\\pip\\cache\\wheels\\f4\\a8\\76\\372879a40d2d4dd7de23efd867ed37112687429b8d0dda4545\n",
      "  Building wheel for docopt (setup.py): started\n",
      "  Building wheel for docopt (setup.py): finished with status 'done'\n",
      "  Created wheel for docopt: filename=docopt-0.6.2-py2.py3-none-any.whl size=13775 sha256=ae7ae0754373e0de7ac58cf054231c8cd0de032b4440be6000ec776d3a82d628\n",
      "  Stored in directory: c:\\users\\jmccall\\appdata\\local\\pip\\cache\\wheels\\56\\ea\\58\\ead137b087d9e326852a851351d1debf4ada529b6ac0ec4e8c\n",
      "  Building wheel for pyjsparser (setup.py): started\n",
      "  Building wheel for pyjsparser (setup.py): finished with status 'done'\n",
      "  Created wheel for pyjsparser: filename=pyjsparser-2.7.1-py3-none-any.whl size=25988 sha256=4ef1c8ca556370733881321f21b2ed91aafa1fa7f54ad75c7d11cf7ca6b593e0\n",
      "  Stored in directory: c:\\users\\jmccall\\appdata\\local\\pip\\cache\\wheels\\d5\\88\\34\\ccb5bb40eb3178a134eb293e6c363928c5bcfba0b91031db76\n",
      "Successfully built pipwin docopt pyjsparser\n",
      "Installing collected packages: pySmartDL, pyprind, pyjsparser, docopt, backports.zoneinfo, pytz-deprecation-shim, tzlocal, js2py, pipwin\n",
      "Successfully installed backports.zoneinfo-0.2.1 docopt-0.6.2 js2py-0.74 pipwin-0.5.2 pySmartDL-1.3.4 pyjsparser-2.7.1 pyprind-2.11.3 pytz-deprecation-shim-0.1.0.post0 tzlocal-4.3\n",
      "Note: you may need to restart the kernel to use updated packages.\n"
     ]
    }
   ],
   "source": [
    "pip install pipwin"
   ]
  },
  {
   "cell_type": "code",
   "execution_count": 6,
   "id": "df2a936c",
   "metadata": {},
   "outputs": [
    {
     "ename": "SyntaxError",
     "evalue": "invalid syntax (2784134237.py, line 1)",
     "output_type": "error",
     "traceback": [
      "\u001b[1;36m  Cell \u001b[1;32mIn[6], line 1\u001b[1;36m\u001b[0m\n\u001b[1;33m    pipwin install gdal\u001b[0m\n\u001b[1;37m           ^\u001b[0m\n\u001b[1;31mSyntaxError\u001b[0m\u001b[1;31m:\u001b[0m invalid syntax\n"
     ]
    }
   ],
   "source": [
    "pipwin install gdal"
   ]
  },
  {
   "cell_type": "code",
   "execution_count": 2,
   "id": "70cf9a87",
   "metadata": {},
   "outputs": [],
   "source": [
    "rides = pd.read_csv('../data/accessrides.csv')"
   ]
  },
  {
   "cell_type": "code",
   "execution_count": 8,
   "id": "c232a8a1",
   "metadata": {},
   "outputs": [
    {
     "data": {
      "text/html": [
       "<div>\n",
       "<style scoped>\n",
       "    .dataframe tbody tr th:only-of-type {\n",
       "        vertical-align: middle;\n",
       "    }\n",
       "\n",
       "    .dataframe tbody tr th {\n",
       "        vertical-align: top;\n",
       "    }\n",
       "\n",
       "    .dataframe thead th {\n",
       "        text-align: right;\n",
       "    }\n",
       "</style>\n",
       "<table border=\"1\" class=\"dataframe\">\n",
       "  <thead>\n",
       "    <tr style=\"text-align: right;\">\n",
       "      <th></th>\n",
       "      <th>Type</th>\n",
       "      <th>Client ID</th>\n",
       "      <th>Time</th>\n",
       "      <th>Date</th>\n",
       "      <th>Time Stamp</th>\n",
       "      <th>LAT</th>\n",
       "      <th>LONG</th>\n",
       "      <th>LatLong</th>\n",
       "    </tr>\n",
       "  </thead>\n",
       "  <tbody>\n",
       "    <tr>\n",
       "      <th>0</th>\n",
       "      <td>Pickup</td>\n",
       "      <td>78</td>\n",
       "      <td>15:00:00</td>\n",
       "      <td>Saturday, January 1, 2022</td>\n",
       "      <td>1/1/2022 15:00</td>\n",
       "      <td>36.145059</td>\n",
       "      <td>-86.812360</td>\n",
       "      <td>36.145059, -86.81236</td>\n",
       "    </tr>\n",
       "    <tr>\n",
       "      <th>1</th>\n",
       "      <td>Pickup</td>\n",
       "      <td>78</td>\n",
       "      <td>18:45:00</td>\n",
       "      <td>Saturday, January 1, 2022</td>\n",
       "      <td>1/1/2022 18:45</td>\n",
       "      <td>36.194334</td>\n",
       "      <td>-86.618303</td>\n",
       "      <td>36.194334, -86.618303</td>\n",
       "    </tr>\n",
       "    <tr>\n",
       "      <th>2</th>\n",
       "      <td>Pickup</td>\n",
       "      <td>7096</td>\n",
       "      <td>7:00:00</td>\n",
       "      <td>Saturday, January 1, 2022</td>\n",
       "      <td>1/1/2022 7:00</td>\n",
       "      <td>36.143799</td>\n",
       "      <td>-86.752940</td>\n",
       "      <td>36.143799, -86.75294</td>\n",
       "    </tr>\n",
       "    <tr>\n",
       "      <th>3</th>\n",
       "      <td>Pickup</td>\n",
       "      <td>9607</td>\n",
       "      <td>14:15:00</td>\n",
       "      <td>Saturday, January 1, 2022</td>\n",
       "      <td>1/1/2022 14:15</td>\n",
       "      <td>36.215131</td>\n",
       "      <td>-86.600926</td>\n",
       "      <td>36.215131, -86.600926</td>\n",
       "    </tr>\n",
       "    <tr>\n",
       "      <th>4</th>\n",
       "      <td>Pickup</td>\n",
       "      <td>9988</td>\n",
       "      <td>12:45:00</td>\n",
       "      <td>Saturday, January 1, 2022</td>\n",
       "      <td>1/1/2022 12:45</td>\n",
       "      <td>36.145059</td>\n",
       "      <td>-86.812360</td>\n",
       "      <td>36.145059, -86.81236</td>\n",
       "    </tr>\n",
       "  </tbody>\n",
       "</table>\n",
       "</div>"
      ],
      "text/plain": [
       "     Type  Client ID      Time                       Date      Time Stamp   \n",
       "0  Pickup         78  15:00:00  Saturday, January 1, 2022  1/1/2022 15:00  \\\n",
       "1  Pickup         78  18:45:00  Saturday, January 1, 2022  1/1/2022 18:45   \n",
       "2  Pickup       7096   7:00:00  Saturday, January 1, 2022   1/1/2022 7:00   \n",
       "3  Pickup       9607  14:15:00  Saturday, January 1, 2022  1/1/2022 14:15   \n",
       "4  Pickup       9988  12:45:00  Saturday, January 1, 2022  1/1/2022 12:45   \n",
       "\n",
       "         LAT       LONG                LatLong  \n",
       "0  36.145059 -86.812360   36.145059, -86.81236  \n",
       "1  36.194334 -86.618303  36.194334, -86.618303  \n",
       "2  36.143799 -86.752940   36.143799, -86.75294  \n",
       "3  36.215131 -86.600926  36.215131, -86.600926  \n",
       "4  36.145059 -86.812360   36.145059, -86.81236  "
      ]
     },
     "execution_count": 8,
     "metadata": {},
     "output_type": "execute_result"
    }
   ],
   "source": [
    "rides.head()"
   ]
  },
  {
   "cell_type": "code",
   "execution_count": 7,
   "id": "a55d8412",
   "metadata": {},
   "outputs": [],
   "source": [
    "rides['LatLong'] = rides['LAT'].astype(str) + ', ' + rides['LONG'].astype(str)"
   ]
  },
  {
   "cell_type": "code",
   "execution_count": 13,
   "id": "e7c48aef",
   "metadata": {},
   "outputs": [],
   "source": [
    "CENTER = (36.145059, -86.81236)  \n",
    "DISTANCE = 300\n",
    "G = ox.graph_from_point(CENTER, dist=DISTANCE, network_type='drive')"
   ]
  },
  {
   "cell_type": "code",
   "execution_count": 16,
   "id": "32547749",
   "metadata": {},
   "outputs": [
    {
     "data": {
      "text/plain": [
       "<networkx.classes.multidigraph.MultiDiGraph at 0x1ac08bf3430>"
      ]
     },
     "execution_count": 16,
     "metadata": {},
     "output_type": "execute_result"
    }
   ],
   "source": [
    "G"
   ]
  },
  {
   "cell_type": "markdown",
   "id": "7bb24403",
   "metadata": {},
   "source": [
    "### OSMnx contributes five primary capabilities  \n",
    "+ enables automated and on-demand downloading of political boundary geometries  \n",
    "+ can automate and customize the downloading of street networks from OpenStreetMap and construct them into multidigraphs  \n",
    "+ can correct and simplify network topology  \n",
    "+ can save/load street networds to/from disk in various file formats  \n",
    "+ has built-in functions to analyze street networks, calculate routs, project and visualize networks, and quickly and consistently calculate various metric and topological measures  "
   ]
  },
  {
   "cell_type": "code",
   "execution_count": null,
   "id": "6087ddb5",
   "metadata": {},
   "outputs": [],
   "source": []
  }
 ],
 "metadata": {
  "kernelspec": {
   "display_name": "Python 3 (ipykernel)",
   "language": "python",
   "name": "python3"
  },
  "language_info": {
   "codemirror_mode": {
    "name": "ipython",
    "version": 3
   },
   "file_extension": ".py",
   "mimetype": "text/x-python",
   "name": "python",
   "nbconvert_exporter": "python",
   "pygments_lexer": "ipython3",
   "version": "3.8.16"
  }
 },
 "nbformat": 4,
 "nbformat_minor": 5
}
