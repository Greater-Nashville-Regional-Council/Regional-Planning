{
 "cells": [
  {
   "cell_type": "markdown",
   "id": "5fff393e",
   "metadata": {},
   "source": [
    "###### imports and settings"
   ]
  },
  {
   "cell_type": "code",
   "execution_count": 1,
   "id": "e2a6c87b",
   "metadata": {},
   "outputs": [],
   "source": [
    "import osmnx as ox\n",
    "import geopandas as gpd\n",
    "import pandas as pd\n",
    "import requests\n",
    "import matplotlib.pyplot as plt\n",
    "import numpy as np\n",
    "# import networkx as nx\n",
    "# from descartes import PolygonPatch\n",
    "# from shapely.geometry import Point, LineString, Polygon\n",
    "#import sklearn\n",
    "import folium\n",
    "from folium import plugins\n",
    "from folium.plugins import MarkerCluster\n",
    "from folium.plugins import FastMarkerCluster\n",
    "%matplotlib inline\n",
    "#ox.config(log_console=True)\n",
    "ox.__version__\n",
    "from warnings import simplefilter\n",
    "simplefilter(action=\"ignore\", category=pd.errors.PerformanceWarning)\n",
    "pd.set_option('display.max_rows', 1000); pd.set_option('display.max_columns', 1000); pd.set_option('display.width', 1000)"
   ]
  },
  {
   "cell_type": "markdown",
   "id": "764ab8ba",
   "metadata": {},
   "source": [
    "https://wiki.openstreetmap.org/wiki/Zoom_levels"
   ]
  },
  {
   "cell_type": "code",
   "execution_count": 5,
   "id": "29ba33fe",
   "metadata": {},
   "outputs": [],
   "source": [
    "#get building data from OSMnx\n",
    "temp = ox.geometries.geometries_from_point([36.140019, -86.807914], tags = {'building': True}, dist = 30000)"
   ]
  },
  {
   "cell_type": "code",
   "execution_count": 6,
   "id": "b2af0685",
   "metadata": {},
   "outputs": [],
   "source": [
    "temp = temp[['name', 'geometry']]\n",
    "temp = temp.reset_index(drop = True).dropna()"
   ]
  },
  {
   "cell_type": "code",
   "execution_count": 7,
   "id": "8cf03208",
   "metadata": {},
   "outputs": [
    {
     "data": {
      "text/html": [
       "<div>\n",
       "<style scoped>\n",
       "    .dataframe tbody tr th:only-of-type {\n",
       "        vertical-align: middle;\n",
       "    }\n",
       "\n",
       "    .dataframe tbody tr th {\n",
       "        vertical-align: top;\n",
       "    }\n",
       "\n",
       "    .dataframe thead th {\n",
       "        text-align: right;\n",
       "    }\n",
       "</style>\n",
       "<table border=\"1\" class=\"dataframe\">\n",
       "  <thead>\n",
       "    <tr style=\"text-align: right;\">\n",
       "      <th></th>\n",
       "      <th>name</th>\n",
       "      <th>geometry</th>\n",
       "    </tr>\n",
       "  </thead>\n",
       "  <tbody>\n",
       "    <tr>\n",
       "      <th>0</th>\n",
       "      <td>Baptist Center For Ethics</td>\n",
       "      <td>POINT (-86.81955 36.10049)</td>\n",
       "    </tr>\n",
       "    <tr>\n",
       "      <th>1</th>\n",
       "      <td>Harrison House</td>\n",
       "      <td>POINT (-86.88100 35.88226)</td>\n",
       "    </tr>\n",
       "    <tr>\n",
       "      <th>2</th>\n",
       "      <td>Radnor Lake Park Office</td>\n",
       "      <td>POINT (-86.80969 36.06307)</td>\n",
       "    </tr>\n",
       "    <tr>\n",
       "      <th>3</th>\n",
       "      <td>Williamson County Administrative Complex</td>\n",
       "      <td>POINT (-86.88421 35.91582)</td>\n",
       "    </tr>\n",
       "    <tr>\n",
       "      <th>4</th>\n",
       "      <td>Fairview Middle School</td>\n",
       "      <td>POINT (-87.13795 35.95089)</td>\n",
       "    </tr>\n",
       "  </tbody>\n",
       "</table>\n",
       "</div>"
      ],
      "text/plain": [
       "                                       name                    geometry\n",
       "0                 Baptist Center For Ethics  POINT (-86.81955 36.10049)\n",
       "1                            Harrison House  POINT (-86.88100 35.88226)\n",
       "2                   Radnor Lake Park Office  POINT (-86.80969 36.06307)\n",
       "3  Williamson County Administrative Complex  POINT (-86.88421 35.91582)\n",
       "4                    Fairview Middle School  POINT (-87.13795 35.95089)"
      ]
     },
     "execution_count": 7,
     "metadata": {},
     "output_type": "execute_result"
    }
   ],
   "source": [
    "temp.head()"
   ]
  },
  {
   "cell_type": "code",
   "execution_count": 8,
   "id": "889008c2",
   "metadata": {},
   "outputs": [],
   "source": [
    "temp.to_file('../data/buildings.geojson')"
   ]
  }
 ],
 "metadata": {
  "kernelspec": {
   "display_name": "Python 3 (ipykernel)",
   "language": "python",
   "name": "python3"
  },
  "language_info": {
   "codemirror_mode": {
    "name": "ipython",
    "version": 3
   },
   "file_extension": ".py",
   "mimetype": "text/x-python",
   "name": "python",
   "nbconvert_exporter": "python",
   "pygments_lexer": "ipython3",
   "version": "3.8.16"
  }
 },
 "nbformat": 4,
 "nbformat_minor": 5
}
